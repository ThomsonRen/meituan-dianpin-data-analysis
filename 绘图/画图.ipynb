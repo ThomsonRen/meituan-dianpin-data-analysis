{
 "cells": [
  {
   "cell_type": "markdown",
   "metadata": {},
   "source": [
    "# 绘制柱状图和箱线图"
   ]
  },
  {
   "cell_type": "code",
   "execution_count": 1,
   "metadata": {},
   "outputs": [],
   "source": [
    "import pandas as pd\n",
    "import plotly.express as px\n",
    "data = pd.read_excel('Food_data_regress_adjusted.xlsx')"
   ]
  },
  {
   "cell_type": "code",
   "execution_count": 8,
   "metadata": {
    "scrolled": false
   },
   "outputs": [
    {
     "data": {
      "application/vnd.plotly.v1+json": {
       "config": {
        "plotlyServerURL": "https://plot.ly"
       },
       "data": [
        {
         "marker": {
          "color": "#636EFA"
         },
         "type": "bar",
         "x": [
          "Southeast",
          "Seafood",
          "Western",
          "Other",
          "Chinese",
          "Coffee",
          "Snack",
          "Bar",
          "Grill",
          "Asia",
          "Bakery",
          "Japan",
          "Drink",
          "Cantonese",
          "France",
          "Buffet",
          "Ice Cream",
          "Korea",
          "Fruit",
          "Indian",
          "Tea",
          "Vegetable"
         ],
         "xaxis": "x",
         "y": [
          90,
          44,
          43,
          42,
          27,
          23,
          15,
          11,
          9,
          8,
          6,
          5,
          4,
          4,
          3,
          3,
          3,
          2,
          1,
          1,
          1,
          1
         ],
         "yaxis": "y"
        },
        {
         "marker": {
          "color": "#636EFA"
         },
         "type": "bar",
         "x": [
          "Southeast",
          "Chinese",
          "Western",
          "Japan",
          "Coffee",
          "Other",
          "Seafood",
          "Snack",
          "Bakery",
          "Asia",
          "Hot Pot",
          "Steak",
          "Ice Cream",
          "Korea",
          "Grill",
          "Noodle",
          "Drink",
          "Bar",
          "France",
          "Indian",
          "Fruit",
          "Cantonese",
          "Tea",
          "Vegetable"
         ],
         "xaxis": "x2",
         "y": [
          86,
          86,
          55,
          53,
          52,
          34,
          30,
          28,
          23,
          13,
          12,
          7,
          6,
          6,
          5,
          4,
          4,
          4,
          3,
          3,
          1,
          1,
          1,
          1
         ],
         "yaxis": "y2"
        },
        {
         "marker": {
          "color": "#636EFA"
         },
         "type": "bar",
         "x": [
          "Other",
          "Chinese",
          "Southeast",
          "Coffee",
          "Seafood",
          "Snack",
          "Bakery",
          "Western",
          "Bar",
          "Asia",
          "Vegetable",
          "Japan",
          "Indian",
          "Steak",
          "Korea",
          "Hot Pot",
          "Hawker Center",
          "Grill",
          "Fruit",
          "Tea"
         ],
         "xaxis": "x3",
         "y": [
          69,
          35,
          35,
          33,
          28,
          21,
          16,
          13,
          10,
          8,
          6,
          6,
          5,
          2,
          1,
          1,
          1,
          1,
          1,
          1
         ],
         "yaxis": "y3"
        },
        {
         "marker": {
          "color": "#636EFA"
         },
         "type": "bar",
         "x": [
          "Chinese",
          "Southeast",
          "Snack",
          "Seafood",
          "Bakery",
          "Western",
          "Hot Pot",
          "Japan",
          "Coffee",
          "Dessert",
          "Buffet",
          "Bak Kut Teh",
          "Asia",
          "France",
          "Tea",
          "Grill",
          "Drink",
          "Ice Cream",
          "Noodle",
          "Other",
          "Bar",
          "Indian",
          "Cantonese",
          "Fruit",
          "Hawker Center",
          "Hainan",
          "Singapore",
          "Spain",
          "Steak",
          "Vegetable"
         ],
         "xaxis": "x4",
         "y": [
          86,
          55,
          47,
          41,
          38,
          36,
          21,
          18,
          16,
          10,
          10,
          10,
          9,
          9,
          8,
          7,
          6,
          6,
          6,
          5,
          5,
          3,
          3,
          3,
          2,
          2,
          1,
          1,
          1,
          1
         ],
         "yaxis": "y4"
        },
        {
         "marker": {
          "color": "#636EFA"
         },
         "type": "bar",
         "x": [
          "Southeast",
          "Seafood",
          "Other",
          "Coffee",
          "Chinese",
          "Bakery",
          "Japan",
          "Asia",
          "Snack",
          "Hot Pot",
          "Grill",
          "France",
          "Drink",
          "Bar",
          "Thailand",
          "Western",
          "Ice Cream",
          "Buffet",
          "Hawker Center",
          "Dessert",
          "Steak",
          "Tea"
         ],
         "xaxis": "x5",
         "y": [
          45,
          22,
          11,
          9,
          7,
          5,
          5,
          4,
          4,
          4,
          4,
          3,
          3,
          3,
          3,
          3,
          2,
          2,
          1,
          1,
          1,
          1
         ],
         "yaxis": "y5"
        },
        {
         "marker": {
          "color": "#636EFA"
         },
         "type": "bar",
         "x": [
          "Southeast",
          "Seafood",
          "Chinese",
          "Western",
          "Snack",
          "Coffee",
          "Japan",
          "Bar",
          "Buffet",
          "Hot Pot",
          "Other",
          "Grill",
          "Ice Cream",
          "Drink",
          "Korea",
          "Steak",
          "Asia",
          "Bakery",
          "Indian",
          "Noodle",
          "Thailand",
          "Dessert",
          "Cantonese",
          "Hawker Center",
          "Fruit",
          "Spain",
          "Vegetable"
         ],
         "xaxis": "x6",
         "y": [
          139,
          94,
          53,
          52,
          49,
          47,
          43,
          36,
          29,
          26,
          22,
          22,
          15,
          13,
          10,
          10,
          7,
          5,
          5,
          4,
          4,
          3,
          2,
          1,
          1,
          1,
          1
         ],
         "yaxis": "y6"
        },
        {
         "marker": {
          "color": "#636EFA"
         },
         "type": "bar",
         "x": [
          "Southeast",
          "Seafood",
          "Western",
          "Chinese",
          "Coffee",
          "Hot Pot",
          "Ice Cream",
          "Other",
          "Snack",
          "Buffet",
          "Grill",
          "Noodle",
          "Bar",
          "Bakery",
          "Steak",
          "Asia",
          "France",
          "Spain",
          "Thailand",
          "Middle East",
          "Indian",
          "Japan",
          "Cantonese",
          "Hawker Center",
          "Fruit",
          "Tea",
          "Drink"
         ],
         "xaxis": "x7",
         "y": [
          125,
          98,
          28,
          25,
          18,
          14,
          9,
          7,
          7,
          7,
          6,
          5,
          5,
          5,
          4,
          4,
          3,
          3,
          3,
          2,
          2,
          1,
          1,
          1,
          1,
          1,
          1
         ],
         "yaxis": "y7"
        }
       ],
       "layout": {
        "annotations": [
         {
          "font": {
           "size": 16
          },
          "showarrow": false,
          "text": "Bali",
          "x": 0.225,
          "xanchor": "center",
          "xref": "paper",
          "y": 1,
          "yanchor": "bottom",
          "yref": "paper"
         },
         {
          "font": {
           "size": 16
          },
          "showarrow": false,
          "text": "Jakarta",
          "x": 0.775,
          "xanchor": "center",
          "xref": "paper",
          "y": 1,
          "yanchor": "bottom",
          "yref": "paper"
         },
         {
          "font": {
           "size": 16
          },
          "showarrow": false,
          "text": "Batam",
          "x": 0.225,
          "xanchor": "center",
          "xref": "paper",
          "y": 0.71875,
          "yanchor": "bottom",
          "yref": "paper"
         },
         {
          "font": {
           "size": 16
          },
          "showarrow": false,
          "text": "Singapore",
          "x": 0.775,
          "xanchor": "center",
          "xref": "paper",
          "y": 0.71875,
          "yanchor": "bottom",
          "yref": "paper"
         },
         {
          "font": {
           "size": 16
          },
          "showarrow": false,
          "text": "Bangkok",
          "x": 0.225,
          "xanchor": "center",
          "xref": "paper",
          "y": 0.4375,
          "yanchor": "bottom",
          "yref": "paper"
         },
         {
          "font": {
           "size": 16
          },
          "showarrow": false,
          "text": "Pattaya",
          "x": 0.775,
          "xanchor": "center",
          "xref": "paper",
          "y": 0.4375,
          "yanchor": "bottom",
          "yref": "paper"
         },
         {
          "font": {
           "size": 16
          },
          "showarrow": false,
          "text": "Phuket",
          "x": 0.225,
          "xanchor": "center",
          "xref": "paper",
          "y": 0.15625,
          "yanchor": "bottom",
          "yref": "paper"
         }
        ],
        "height": 1800,
        "showlegend": false,
        "template": {
         "data": {
          "bar": [
           {
            "error_x": {
             "color": "rgb(36,36,36)"
            },
            "error_y": {
             "color": "rgb(36,36,36)"
            },
            "marker": {
             "line": {
              "color": "white",
              "width": 0.5
             }
            },
            "type": "bar"
           }
          ],
          "barpolar": [
           {
            "marker": {
             "line": {
              "color": "white",
              "width": 0.5
             }
            },
            "type": "barpolar"
           }
          ],
          "carpet": [
           {
            "aaxis": {
             "endlinecolor": "rgb(36,36,36)",
             "gridcolor": "white",
             "linecolor": "white",
             "minorgridcolor": "white",
             "startlinecolor": "rgb(36,36,36)"
            },
            "baxis": {
             "endlinecolor": "rgb(36,36,36)",
             "gridcolor": "white",
             "linecolor": "white",
             "minorgridcolor": "white",
             "startlinecolor": "rgb(36,36,36)"
            },
            "type": "carpet"
           }
          ],
          "choropleth": [
           {
            "colorbar": {
             "outlinewidth": 1,
             "tickcolor": "rgb(36,36,36)",
             "ticks": "outside"
            },
            "type": "choropleth"
           }
          ],
          "contour": [
           {
            "colorbar": {
             "outlinewidth": 1,
             "tickcolor": "rgb(36,36,36)",
             "ticks": "outside"
            },
            "colorscale": [
             [
              0,
              "#440154"
             ],
             [
              0.1111111111111111,
              "#482878"
             ],
             [
              0.2222222222222222,
              "#3e4989"
             ],
             [
              0.3333333333333333,
              "#31688e"
             ],
             [
              0.4444444444444444,
              "#26828e"
             ],
             [
              0.5555555555555556,
              "#1f9e89"
             ],
             [
              0.6666666666666666,
              "#35b779"
             ],
             [
              0.7777777777777778,
              "#6ece58"
             ],
             [
              0.8888888888888888,
              "#b5de2b"
             ],
             [
              1,
              "#fde725"
             ]
            ],
            "type": "contour"
           }
          ],
          "contourcarpet": [
           {
            "colorbar": {
             "outlinewidth": 1,
             "tickcolor": "rgb(36,36,36)",
             "ticks": "outside"
            },
            "type": "contourcarpet"
           }
          ],
          "heatmap": [
           {
            "colorbar": {
             "outlinewidth": 1,
             "tickcolor": "rgb(36,36,36)",
             "ticks": "outside"
            },
            "colorscale": [
             [
              0,
              "#440154"
             ],
             [
              0.1111111111111111,
              "#482878"
             ],
             [
              0.2222222222222222,
              "#3e4989"
             ],
             [
              0.3333333333333333,
              "#31688e"
             ],
             [
              0.4444444444444444,
              "#26828e"
             ],
             [
              0.5555555555555556,
              "#1f9e89"
             ],
             [
              0.6666666666666666,
              "#35b779"
             ],
             [
              0.7777777777777778,
              "#6ece58"
             ],
             [
              0.8888888888888888,
              "#b5de2b"
             ],
             [
              1,
              "#fde725"
             ]
            ],
            "type": "heatmap"
           }
          ],
          "heatmapgl": [
           {
            "colorbar": {
             "outlinewidth": 1,
             "tickcolor": "rgb(36,36,36)",
             "ticks": "outside"
            },
            "colorscale": [
             [
              0,
              "#440154"
             ],
             [
              0.1111111111111111,
              "#482878"
             ],
             [
              0.2222222222222222,
              "#3e4989"
             ],
             [
              0.3333333333333333,
              "#31688e"
             ],
             [
              0.4444444444444444,
              "#26828e"
             ],
             [
              0.5555555555555556,
              "#1f9e89"
             ],
             [
              0.6666666666666666,
              "#35b779"
             ],
             [
              0.7777777777777778,
              "#6ece58"
             ],
             [
              0.8888888888888888,
              "#b5de2b"
             ],
             [
              1,
              "#fde725"
             ]
            ],
            "type": "heatmapgl"
           }
          ],
          "histogram": [
           {
            "marker": {
             "line": {
              "color": "white",
              "width": 0.6
             }
            },
            "type": "histogram"
           }
          ],
          "histogram2d": [
           {
            "colorbar": {
             "outlinewidth": 1,
             "tickcolor": "rgb(36,36,36)",
             "ticks": "outside"
            },
            "colorscale": [
             [
              0,
              "#440154"
             ],
             [
              0.1111111111111111,
              "#482878"
             ],
             [
              0.2222222222222222,
              "#3e4989"
             ],
             [
              0.3333333333333333,
              "#31688e"
             ],
             [
              0.4444444444444444,
              "#26828e"
             ],
             [
              0.5555555555555556,
              "#1f9e89"
             ],
             [
              0.6666666666666666,
              "#35b779"
             ],
             [
              0.7777777777777778,
              "#6ece58"
             ],
             [
              0.8888888888888888,
              "#b5de2b"
             ],
             [
              1,
              "#fde725"
             ]
            ],
            "type": "histogram2d"
           }
          ],
          "histogram2dcontour": [
           {
            "colorbar": {
             "outlinewidth": 1,
             "tickcolor": "rgb(36,36,36)",
             "ticks": "outside"
            },
            "colorscale": [
             [
              0,
              "#440154"
             ],
             [
              0.1111111111111111,
              "#482878"
             ],
             [
              0.2222222222222222,
              "#3e4989"
             ],
             [
              0.3333333333333333,
              "#31688e"
             ],
             [
              0.4444444444444444,
              "#26828e"
             ],
             [
              0.5555555555555556,
              "#1f9e89"
             ],
             [
              0.6666666666666666,
              "#35b779"
             ],
             [
              0.7777777777777778,
              "#6ece58"
             ],
             [
              0.8888888888888888,
              "#b5de2b"
             ],
             [
              1,
              "#fde725"
             ]
            ],
            "type": "histogram2dcontour"
           }
          ],
          "mesh3d": [
           {
            "colorbar": {
             "outlinewidth": 1,
             "tickcolor": "rgb(36,36,36)",
             "ticks": "outside"
            },
            "type": "mesh3d"
           }
          ],
          "parcoords": [
           {
            "line": {
             "colorbar": {
              "outlinewidth": 1,
              "tickcolor": "rgb(36,36,36)",
              "ticks": "outside"
             }
            },
            "type": "parcoords"
           }
          ],
          "pie": [
           {
            "automargin": true,
            "type": "pie"
           }
          ],
          "scatter": [
           {
            "marker": {
             "colorbar": {
              "outlinewidth": 1,
              "tickcolor": "rgb(36,36,36)",
              "ticks": "outside"
             }
            },
            "type": "scatter"
           }
          ],
          "scatter3d": [
           {
            "line": {
             "colorbar": {
              "outlinewidth": 1,
              "tickcolor": "rgb(36,36,36)",
              "ticks": "outside"
             }
            },
            "marker": {
             "colorbar": {
              "outlinewidth": 1,
              "tickcolor": "rgb(36,36,36)",
              "ticks": "outside"
             }
            },
            "type": "scatter3d"
           }
          ],
          "scattercarpet": [
           {
            "marker": {
             "colorbar": {
              "outlinewidth": 1,
              "tickcolor": "rgb(36,36,36)",
              "ticks": "outside"
             }
            },
            "type": "scattercarpet"
           }
          ],
          "scattergeo": [
           {
            "marker": {
             "colorbar": {
              "outlinewidth": 1,
              "tickcolor": "rgb(36,36,36)",
              "ticks": "outside"
             }
            },
            "type": "scattergeo"
           }
          ],
          "scattergl": [
           {
            "marker": {
             "colorbar": {
              "outlinewidth": 1,
              "tickcolor": "rgb(36,36,36)",
              "ticks": "outside"
             }
            },
            "type": "scattergl"
           }
          ],
          "scattermapbox": [
           {
            "marker": {
             "colorbar": {
              "outlinewidth": 1,
              "tickcolor": "rgb(36,36,36)",
              "ticks": "outside"
             }
            },
            "type": "scattermapbox"
           }
          ],
          "scatterpolar": [
           {
            "marker": {
             "colorbar": {
              "outlinewidth": 1,
              "tickcolor": "rgb(36,36,36)",
              "ticks": "outside"
             }
            },
            "type": "scatterpolar"
           }
          ],
          "scatterpolargl": [
           {
            "marker": {
             "colorbar": {
              "outlinewidth": 1,
              "tickcolor": "rgb(36,36,36)",
              "ticks": "outside"
             }
            },
            "type": "scatterpolargl"
           }
          ],
          "scatterternary": [
           {
            "marker": {
             "colorbar": {
              "outlinewidth": 1,
              "tickcolor": "rgb(36,36,36)",
              "ticks": "outside"
             }
            },
            "type": "scatterternary"
           }
          ],
          "surface": [
           {
            "colorbar": {
             "outlinewidth": 1,
             "tickcolor": "rgb(36,36,36)",
             "ticks": "outside"
            },
            "colorscale": [
             [
              0,
              "#440154"
             ],
             [
              0.1111111111111111,
              "#482878"
             ],
             [
              0.2222222222222222,
              "#3e4989"
             ],
             [
              0.3333333333333333,
              "#31688e"
             ],
             [
              0.4444444444444444,
              "#26828e"
             ],
             [
              0.5555555555555556,
              "#1f9e89"
             ],
             [
              0.6666666666666666,
              "#35b779"
             ],
             [
              0.7777777777777778,
              "#6ece58"
             ],
             [
              0.8888888888888888,
              "#b5de2b"
             ],
             [
              1,
              "#fde725"
             ]
            ],
            "type": "surface"
           }
          ],
          "table": [
           {
            "cells": {
             "fill": {
              "color": "rgb(237,237,237)"
             },
             "line": {
              "color": "white"
             }
            },
            "header": {
             "fill": {
              "color": "rgb(217,217,217)"
             },
             "line": {
              "color": "white"
             }
            },
            "type": "table"
           }
          ]
         },
         "layout": {
          "annotationdefaults": {
           "arrowhead": 0,
           "arrowwidth": 1
          },
          "coloraxis": {
           "colorbar": {
            "outlinewidth": 1,
            "tickcolor": "rgb(36,36,36)",
            "ticks": "outside"
           }
          },
          "colorscale": {
           "diverging": [
            [
             0,
             "rgb(103,0,31)"
            ],
            [
             0.1,
             "rgb(178,24,43)"
            ],
            [
             0.2,
             "rgb(214,96,77)"
            ],
            [
             0.3,
             "rgb(244,165,130)"
            ],
            [
             0.4,
             "rgb(253,219,199)"
            ],
            [
             0.5,
             "rgb(247,247,247)"
            ],
            [
             0.6,
             "rgb(209,229,240)"
            ],
            [
             0.7,
             "rgb(146,197,222)"
            ],
            [
             0.8,
             "rgb(67,147,195)"
            ],
            [
             0.9,
             "rgb(33,102,172)"
            ],
            [
             1,
             "rgb(5,48,97)"
            ]
           ],
           "sequential": [
            [
             0,
             "#440154"
            ],
            [
             0.1111111111111111,
             "#482878"
            ],
            [
             0.2222222222222222,
             "#3e4989"
            ],
            [
             0.3333333333333333,
             "#31688e"
            ],
            [
             0.4444444444444444,
             "#26828e"
            ],
            [
             0.5555555555555556,
             "#1f9e89"
            ],
            [
             0.6666666666666666,
             "#35b779"
            ],
            [
             0.7777777777777778,
             "#6ece58"
            ],
            [
             0.8888888888888888,
             "#b5de2b"
            ],
            [
             1,
             "#fde725"
            ]
           ],
           "sequentialminus": [
            [
             0,
             "#440154"
            ],
            [
             0.1111111111111111,
             "#482878"
            ],
            [
             0.2222222222222222,
             "#3e4989"
            ],
            [
             0.3333333333333333,
             "#31688e"
            ],
            [
             0.4444444444444444,
             "#26828e"
            ],
            [
             0.5555555555555556,
             "#1f9e89"
            ],
            [
             0.6666666666666666,
             "#35b779"
            ],
            [
             0.7777777777777778,
             "#6ece58"
            ],
            [
             0.8888888888888888,
             "#b5de2b"
            ],
            [
             1,
             "#fde725"
            ]
           ]
          },
          "colorway": [
           "#1F77B4",
           "#FF7F0E",
           "#2CA02C",
           "#D62728",
           "#9467BD",
           "#8C564B",
           "#E377C2",
           "#7F7F7F",
           "#BCBD22",
           "#17BECF"
          ],
          "font": {
           "color": "rgb(36,36,36)"
          },
          "geo": {
           "bgcolor": "white",
           "lakecolor": "white",
           "landcolor": "white",
           "showlakes": true,
           "showland": true,
           "subunitcolor": "white"
          },
          "hoverlabel": {
           "align": "left"
          },
          "hovermode": "closest",
          "mapbox": {
           "style": "light"
          },
          "paper_bgcolor": "white",
          "plot_bgcolor": "white",
          "polar": {
           "angularaxis": {
            "gridcolor": "rgb(232,232,232)",
            "linecolor": "rgb(36,36,36)",
            "showgrid": false,
            "showline": true,
            "ticks": "outside"
           },
           "bgcolor": "white",
           "radialaxis": {
            "gridcolor": "rgb(232,232,232)",
            "linecolor": "rgb(36,36,36)",
            "showgrid": false,
            "showline": true,
            "ticks": "outside"
           }
          },
          "scene": {
           "xaxis": {
            "backgroundcolor": "white",
            "gridcolor": "rgb(232,232,232)",
            "gridwidth": 2,
            "linecolor": "rgb(36,36,36)",
            "showbackground": true,
            "showgrid": false,
            "showline": true,
            "ticks": "outside",
            "zeroline": false,
            "zerolinecolor": "rgb(36,36,36)"
           },
           "yaxis": {
            "backgroundcolor": "white",
            "gridcolor": "rgb(232,232,232)",
            "gridwidth": 2,
            "linecolor": "rgb(36,36,36)",
            "showbackground": true,
            "showgrid": false,
            "showline": true,
            "ticks": "outside",
            "zeroline": false,
            "zerolinecolor": "rgb(36,36,36)"
           },
           "zaxis": {
            "backgroundcolor": "white",
            "gridcolor": "rgb(232,232,232)",
            "gridwidth": 2,
            "linecolor": "rgb(36,36,36)",
            "showbackground": true,
            "showgrid": false,
            "showline": true,
            "ticks": "outside",
            "zeroline": false,
            "zerolinecolor": "rgb(36,36,36)"
           }
          },
          "shapedefaults": {
           "fillcolor": "black",
           "line": {
            "width": 0
           },
           "opacity": 0.3
          },
          "ternary": {
           "aaxis": {
            "gridcolor": "rgb(232,232,232)",
            "linecolor": "rgb(36,36,36)",
            "showgrid": false,
            "showline": true,
            "ticks": "outside"
           },
           "baxis": {
            "gridcolor": "rgb(232,232,232)",
            "linecolor": "rgb(36,36,36)",
            "showgrid": false,
            "showline": true,
            "ticks": "outside"
           },
           "bgcolor": "white",
           "caxis": {
            "gridcolor": "rgb(232,232,232)",
            "linecolor": "rgb(36,36,36)",
            "showgrid": false,
            "showline": true,
            "ticks": "outside"
           }
          },
          "title": {
           "x": 0.05
          },
          "xaxis": {
           "automargin": true,
           "gridcolor": "rgb(232,232,232)",
           "linecolor": "rgb(36,36,36)",
           "showgrid": false,
           "showline": true,
           "ticks": "outside",
           "title": {
            "standoff": 15
           },
           "zeroline": false,
           "zerolinecolor": "rgb(36,36,36)"
          },
          "yaxis": {
           "automargin": true,
           "gridcolor": "rgb(232,232,232)",
           "linecolor": "rgb(36,36,36)",
           "showgrid": false,
           "showline": true,
           "ticks": "outside",
           "title": {
            "standoff": 15
           },
           "zeroline": false,
           "zerolinecolor": "rgb(36,36,36)"
          }
         }
        },
        "uniformtext": {
         "minsize": 6
        },
        "width": 1500,
        "xaxis": {
         "anchor": "y",
         "domain": [
          0,
          0.45
         ],
         "tickangle": 90
        },
        "xaxis2": {
         "anchor": "y2",
         "domain": [
          0.55,
          1
         ]
        },
        "xaxis3": {
         "anchor": "y3",
         "domain": [
          0,
          0.45
         ]
        },
        "xaxis4": {
         "anchor": "y4",
         "domain": [
          0.55,
          1
         ]
        },
        "xaxis5": {
         "anchor": "y5",
         "domain": [
          0,
          0.45
         ]
        },
        "xaxis6": {
         "anchor": "y6",
         "domain": [
          0.55,
          1
         ]
        },
        "xaxis7": {
         "anchor": "y7",
         "domain": [
          0,
          0.45
         ]
        },
        "xaxis8": {
         "anchor": "y8",
         "domain": [
          0.55,
          1
         ]
        },
        "yaxis": {
         "anchor": "x",
         "domain": [
          0.84375,
          1
         ],
         "title": {
          "text": "Freq"
         }
        },
        "yaxis2": {
         "anchor": "x2",
         "domain": [
          0.84375,
          1
         ],
         "title": {
          "text": "Freq"
         }
        },
        "yaxis3": {
         "anchor": "x3",
         "domain": [
          0.5625,
          0.71875
         ],
         "title": {
          "text": "Freq"
         }
        },
        "yaxis4": {
         "anchor": "x4",
         "domain": [
          0.5625,
          0.71875
         ],
         "title": {
          "text": "Freq"
         }
        },
        "yaxis5": {
         "anchor": "x5",
         "domain": [
          0.28125,
          0.4375
         ],
         "title": {
          "text": "Freq"
         }
        },
        "yaxis6": {
         "anchor": "x6",
         "domain": [
          0.28125,
          0.4375
         ],
         "title": {
          "text": "Freq"
         }
        },
        "yaxis7": {
         "anchor": "x7",
         "domain": [
          0,
          0.15625
         ],
         "title": {
          "text": "Freq"
         }
        },
        "yaxis8": {
         "anchor": "x8",
         "domain": [
          0,
          0.15625
         ],
         "title": {
          "text": "Freq"
         }
        }
       }
      },
      "text/html": [
       "<div>\n",
       "        \n",
       "        \n",
       "            <div id=\"f7a5b641-03d3-414d-a40d-03426ab63994\" class=\"plotly-graph-div\" style=\"height:1800px; width:1500px;\"></div>\n",
       "            <script type=\"text/javascript\">\n",
       "                require([\"plotly\"], function(Plotly) {\n",
       "                    window.PLOTLYENV=window.PLOTLYENV || {};\n",
       "                    \n",
       "                if (document.getElementById(\"f7a5b641-03d3-414d-a40d-03426ab63994\")) {\n",
       "                    Plotly.newPlot(\n",
       "                        'f7a5b641-03d3-414d-a40d-03426ab63994',\n",
       "                        [{\"marker\": {\"color\": \"#636EFA\"}, \"type\": \"bar\", \"x\": [\"Southeast\", \"Seafood\", \"Western\", \"Other\", \"Chinese\", \"Coffee\", \"Snack\", \"Bar\", \"Grill\", \"Asia\", \"Bakery\", \"Japan\", \"Drink\", \"Cantonese\", \"France\", \"Buffet\", \"Ice Cream\", \"Korea\", \"Fruit\", \"Indian\", \"Tea\", \"Vegetable\"], \"xaxis\": \"x\", \"y\": [90, 44, 43, 42, 27, 23, 15, 11, 9, 8, 6, 5, 4, 4, 3, 3, 3, 2, 1, 1, 1, 1], \"yaxis\": \"y\"}, {\"marker\": {\"color\": \"#636EFA\"}, \"type\": \"bar\", \"x\": [\"Southeast\", \"Chinese\", \"Western\", \"Japan\", \"Coffee\", \"Other\", \"Seafood\", \"Snack\", \"Bakery\", \"Asia\", \"Hot Pot\", \"Steak\", \"Ice Cream\", \"Korea\", \"Grill\", \"Noodle\", \"Drink\", \"Bar\", \"France\", \"Indian\", \"Fruit\", \"Cantonese\", \"Tea\", \"Vegetable\"], \"xaxis\": \"x2\", \"y\": [86, 86, 55, 53, 52, 34, 30, 28, 23, 13, 12, 7, 6, 6, 5, 4, 4, 4, 3, 3, 1, 1, 1, 1], \"yaxis\": \"y2\"}, {\"marker\": {\"color\": \"#636EFA\"}, \"type\": \"bar\", \"x\": [\"Other\", \"Chinese\", \"Southeast\", \"Coffee\", \"Seafood\", \"Snack\", \"Bakery\", \"Western\", \"Bar\", \"Asia\", \"Vegetable\", \"Japan\", \"Indian\", \"Steak\", \"Korea\", \"Hot Pot\", \"Hawker Center\", \"Grill\", \"Fruit\", \"Tea\"], \"xaxis\": \"x3\", \"y\": [69, 35, 35, 33, 28, 21, 16, 13, 10, 8, 6, 6, 5, 2, 1, 1, 1, 1, 1, 1], \"yaxis\": \"y3\"}, {\"marker\": {\"color\": \"#636EFA\"}, \"type\": \"bar\", \"x\": [\"Chinese\", \"Southeast\", \"Snack\", \"Seafood\", \"Bakery\", \"Western\", \"Hot Pot\", \"Japan\", \"Coffee\", \"Dessert\", \"Buffet\", \"Bak Kut Teh\", \"Asia\", \"France\", \"Tea\", \"Grill\", \"Drink\", \"Ice Cream\", \"Noodle\", \"Other\", \"Bar\", \"Indian\", \"Cantonese\", \"Fruit\", \"Hawker Center\", \"Hainan\", \"Singapore\", \"Spain\", \"Steak\", \"Vegetable\"], \"xaxis\": \"x4\", \"y\": [86, 55, 47, 41, 38, 36, 21, 18, 16, 10, 10, 10, 9, 9, 8, 7, 6, 6, 6, 5, 5, 3, 3, 3, 2, 2, 1, 1, 1, 1], \"yaxis\": \"y4\"}, {\"marker\": {\"color\": \"#636EFA\"}, \"type\": \"bar\", \"x\": [\"Southeast\", \"Seafood\", \"Other\", \"Coffee\", \"Chinese\", \"Bakery\", \"Japan\", \"Asia\", \"Snack\", \"Hot Pot\", \"Grill\", \"France\", \"Drink\", \"Bar\", \"Thailand\", \"Western\", \"Ice Cream\", \"Buffet\", \"Hawker Center\", \"Dessert\", \"Steak\", \"Tea\"], \"xaxis\": \"x5\", \"y\": [45, 22, 11, 9, 7, 5, 5, 4, 4, 4, 4, 3, 3, 3, 3, 3, 2, 2, 1, 1, 1, 1], \"yaxis\": \"y5\"}, {\"marker\": {\"color\": \"#636EFA\"}, \"type\": \"bar\", \"x\": [\"Southeast\", \"Seafood\", \"Chinese\", \"Western\", \"Snack\", \"Coffee\", \"Japan\", \"Bar\", \"Buffet\", \"Hot Pot\", \"Other\", \"Grill\", \"Ice Cream\", \"Drink\", \"Korea\", \"Steak\", \"Asia\", \"Bakery\", \"Indian\", \"Noodle\", \"Thailand\", \"Dessert\", \"Cantonese\", \"Hawker Center\", \"Fruit\", \"Spain\", \"Vegetable\"], \"xaxis\": \"x6\", \"y\": [139, 94, 53, 52, 49, 47, 43, 36, 29, 26, 22, 22, 15, 13, 10, 10, 7, 5, 5, 4, 4, 3, 2, 1, 1, 1, 1], \"yaxis\": \"y6\"}, {\"marker\": {\"color\": \"#636EFA\"}, \"type\": \"bar\", \"x\": [\"Southeast\", \"Seafood\", \"Western\", \"Chinese\", \"Coffee\", \"Hot Pot\", \"Ice Cream\", \"Other\", \"Snack\", \"Buffet\", \"Grill\", \"Noodle\", \"Bar\", \"Bakery\", \"Steak\", \"Asia\", \"France\", \"Spain\", \"Thailand\", \"Middle East\", \"Indian\", \"Japan\", \"Cantonese\", \"Hawker Center\", \"Fruit\", \"Tea\", \"Drink\"], \"xaxis\": \"x7\", \"y\": [125, 98, 28, 25, 18, 14, 9, 7, 7, 7, 6, 5, 5, 5, 4, 4, 3, 3, 3, 2, 2, 1, 1, 1, 1, 1, 1], \"yaxis\": \"y7\"}],\n",
       "                        {\"annotations\": [{\"font\": {\"size\": 16}, \"showarrow\": false, \"text\": \"Bali\", \"x\": 0.225, \"xanchor\": \"center\", \"xref\": \"paper\", \"y\": 1.0, \"yanchor\": \"bottom\", \"yref\": \"paper\"}, {\"font\": {\"size\": 16}, \"showarrow\": false, \"text\": \"Jakarta\", \"x\": 0.775, \"xanchor\": \"center\", \"xref\": \"paper\", \"y\": 1.0, \"yanchor\": \"bottom\", \"yref\": \"paper\"}, {\"font\": {\"size\": 16}, \"showarrow\": false, \"text\": \"Batam\", \"x\": 0.225, \"xanchor\": \"center\", \"xref\": \"paper\", \"y\": 0.71875, \"yanchor\": \"bottom\", \"yref\": \"paper\"}, {\"font\": {\"size\": 16}, \"showarrow\": false, \"text\": \"Singapore\", \"x\": 0.775, \"xanchor\": \"center\", \"xref\": \"paper\", \"y\": 0.71875, \"yanchor\": \"bottom\", \"yref\": \"paper\"}, {\"font\": {\"size\": 16}, \"showarrow\": false, \"text\": \"Bangkok\", \"x\": 0.225, \"xanchor\": \"center\", \"xref\": \"paper\", \"y\": 0.4375, \"yanchor\": \"bottom\", \"yref\": \"paper\"}, {\"font\": {\"size\": 16}, \"showarrow\": false, \"text\": \"Pattaya\", \"x\": 0.775, \"xanchor\": \"center\", \"xref\": \"paper\", \"y\": 0.4375, \"yanchor\": \"bottom\", \"yref\": \"paper\"}, {\"font\": {\"size\": 16}, \"showarrow\": false, \"text\": \"Phuket\", \"x\": 0.225, \"xanchor\": \"center\", \"xref\": \"paper\", \"y\": 0.15625, \"yanchor\": \"bottom\", \"yref\": \"paper\"}], \"height\": 1800, \"showlegend\": false, \"template\": {\"data\": {\"bar\": [{\"error_x\": {\"color\": \"rgb(36,36,36)\"}, \"error_y\": {\"color\": \"rgb(36,36,36)\"}, \"marker\": {\"line\": {\"color\": \"white\", \"width\": 0.5}}, \"type\": \"bar\"}], \"barpolar\": [{\"marker\": {\"line\": {\"color\": \"white\", \"width\": 0.5}}, \"type\": \"barpolar\"}], \"carpet\": [{\"aaxis\": {\"endlinecolor\": \"rgb(36,36,36)\", \"gridcolor\": \"white\", \"linecolor\": \"white\", \"minorgridcolor\": \"white\", \"startlinecolor\": \"rgb(36,36,36)\"}, \"baxis\": {\"endlinecolor\": \"rgb(36,36,36)\", \"gridcolor\": \"white\", \"linecolor\": \"white\", \"minorgridcolor\": \"white\", \"startlinecolor\": \"rgb(36,36,36)\"}, \"type\": \"carpet\"}], \"choropleth\": [{\"colorbar\": {\"outlinewidth\": 1, \"tickcolor\": \"rgb(36,36,36)\", \"ticks\": \"outside\"}, \"type\": \"choropleth\"}], \"contour\": [{\"colorbar\": {\"outlinewidth\": 1, \"tickcolor\": \"rgb(36,36,36)\", \"ticks\": \"outside\"}, \"colorscale\": [[0.0, \"#440154\"], [0.1111111111111111, \"#482878\"], [0.2222222222222222, \"#3e4989\"], [0.3333333333333333, \"#31688e\"], [0.4444444444444444, \"#26828e\"], [0.5555555555555556, \"#1f9e89\"], [0.6666666666666666, \"#35b779\"], [0.7777777777777778, \"#6ece58\"], [0.8888888888888888, \"#b5de2b\"], [1.0, \"#fde725\"]], \"type\": \"contour\"}], \"contourcarpet\": [{\"colorbar\": {\"outlinewidth\": 1, \"tickcolor\": \"rgb(36,36,36)\", \"ticks\": \"outside\"}, \"type\": \"contourcarpet\"}], \"heatmap\": [{\"colorbar\": {\"outlinewidth\": 1, \"tickcolor\": \"rgb(36,36,36)\", \"ticks\": \"outside\"}, \"colorscale\": [[0.0, \"#440154\"], [0.1111111111111111, \"#482878\"], [0.2222222222222222, \"#3e4989\"], [0.3333333333333333, \"#31688e\"], [0.4444444444444444, \"#26828e\"], [0.5555555555555556, \"#1f9e89\"], [0.6666666666666666, \"#35b779\"], [0.7777777777777778, \"#6ece58\"], [0.8888888888888888, \"#b5de2b\"], [1.0, \"#fde725\"]], \"type\": \"heatmap\"}], \"heatmapgl\": [{\"colorbar\": {\"outlinewidth\": 1, \"tickcolor\": \"rgb(36,36,36)\", \"ticks\": \"outside\"}, \"colorscale\": [[0.0, \"#440154\"], [0.1111111111111111, \"#482878\"], [0.2222222222222222, \"#3e4989\"], [0.3333333333333333, \"#31688e\"], [0.4444444444444444, \"#26828e\"], [0.5555555555555556, \"#1f9e89\"], [0.6666666666666666, \"#35b779\"], [0.7777777777777778, \"#6ece58\"], [0.8888888888888888, \"#b5de2b\"], [1.0, \"#fde725\"]], \"type\": \"heatmapgl\"}], \"histogram\": [{\"marker\": {\"line\": {\"color\": \"white\", \"width\": 0.6}}, \"type\": \"histogram\"}], \"histogram2d\": [{\"colorbar\": {\"outlinewidth\": 1, \"tickcolor\": \"rgb(36,36,36)\", \"ticks\": \"outside\"}, \"colorscale\": [[0.0, \"#440154\"], [0.1111111111111111, \"#482878\"], [0.2222222222222222, \"#3e4989\"], [0.3333333333333333, \"#31688e\"], [0.4444444444444444, \"#26828e\"], [0.5555555555555556, \"#1f9e89\"], [0.6666666666666666, \"#35b779\"], [0.7777777777777778, \"#6ece58\"], [0.8888888888888888, \"#b5de2b\"], [1.0, \"#fde725\"]], \"type\": \"histogram2d\"}], \"histogram2dcontour\": [{\"colorbar\": {\"outlinewidth\": 1, \"tickcolor\": \"rgb(36,36,36)\", \"ticks\": \"outside\"}, \"colorscale\": [[0.0, \"#440154\"], [0.1111111111111111, \"#482878\"], [0.2222222222222222, \"#3e4989\"], [0.3333333333333333, \"#31688e\"], [0.4444444444444444, \"#26828e\"], [0.5555555555555556, \"#1f9e89\"], [0.6666666666666666, \"#35b779\"], [0.7777777777777778, \"#6ece58\"], [0.8888888888888888, \"#b5de2b\"], [1.0, \"#fde725\"]], \"type\": \"histogram2dcontour\"}], \"mesh3d\": [{\"colorbar\": {\"outlinewidth\": 1, \"tickcolor\": \"rgb(36,36,36)\", \"ticks\": \"outside\"}, \"type\": \"mesh3d\"}], \"parcoords\": [{\"line\": {\"colorbar\": {\"outlinewidth\": 1, \"tickcolor\": \"rgb(36,36,36)\", \"ticks\": \"outside\"}}, \"type\": \"parcoords\"}], \"pie\": [{\"automargin\": true, \"type\": \"pie\"}], \"scatter\": [{\"marker\": {\"colorbar\": {\"outlinewidth\": 1, \"tickcolor\": \"rgb(36,36,36)\", \"ticks\": \"outside\"}}, \"type\": \"scatter\"}], \"scatter3d\": [{\"line\": {\"colorbar\": {\"outlinewidth\": 1, \"tickcolor\": \"rgb(36,36,36)\", \"ticks\": \"outside\"}}, \"marker\": {\"colorbar\": {\"outlinewidth\": 1, \"tickcolor\": \"rgb(36,36,36)\", \"ticks\": \"outside\"}}, \"type\": \"scatter3d\"}], \"scattercarpet\": [{\"marker\": {\"colorbar\": {\"outlinewidth\": 1, \"tickcolor\": \"rgb(36,36,36)\", \"ticks\": \"outside\"}}, \"type\": \"scattercarpet\"}], \"scattergeo\": [{\"marker\": {\"colorbar\": {\"outlinewidth\": 1, \"tickcolor\": \"rgb(36,36,36)\", \"ticks\": \"outside\"}}, \"type\": \"scattergeo\"}], \"scattergl\": [{\"marker\": {\"colorbar\": {\"outlinewidth\": 1, \"tickcolor\": \"rgb(36,36,36)\", \"ticks\": \"outside\"}}, \"type\": \"scattergl\"}], \"scattermapbox\": [{\"marker\": {\"colorbar\": {\"outlinewidth\": 1, \"tickcolor\": \"rgb(36,36,36)\", \"ticks\": \"outside\"}}, \"type\": \"scattermapbox\"}], \"scatterpolar\": [{\"marker\": {\"colorbar\": {\"outlinewidth\": 1, \"tickcolor\": \"rgb(36,36,36)\", \"ticks\": \"outside\"}}, \"type\": \"scatterpolar\"}], \"scatterpolargl\": [{\"marker\": {\"colorbar\": {\"outlinewidth\": 1, \"tickcolor\": \"rgb(36,36,36)\", \"ticks\": \"outside\"}}, \"type\": \"scatterpolargl\"}], \"scatterternary\": [{\"marker\": {\"colorbar\": {\"outlinewidth\": 1, \"tickcolor\": \"rgb(36,36,36)\", \"ticks\": \"outside\"}}, \"type\": \"scatterternary\"}], \"surface\": [{\"colorbar\": {\"outlinewidth\": 1, \"tickcolor\": \"rgb(36,36,36)\", \"ticks\": \"outside\"}, \"colorscale\": [[0.0, \"#440154\"], [0.1111111111111111, \"#482878\"], [0.2222222222222222, \"#3e4989\"], [0.3333333333333333, \"#31688e\"], [0.4444444444444444, \"#26828e\"], [0.5555555555555556, \"#1f9e89\"], [0.6666666666666666, \"#35b779\"], [0.7777777777777778, \"#6ece58\"], [0.8888888888888888, \"#b5de2b\"], [1.0, \"#fde725\"]], \"type\": \"surface\"}], \"table\": [{\"cells\": {\"fill\": {\"color\": \"rgb(237,237,237)\"}, \"line\": {\"color\": \"white\"}}, \"header\": {\"fill\": {\"color\": \"rgb(217,217,217)\"}, \"line\": {\"color\": \"white\"}}, \"type\": \"table\"}]}, \"layout\": {\"annotationdefaults\": {\"arrowhead\": 0, \"arrowwidth\": 1}, \"coloraxis\": {\"colorbar\": {\"outlinewidth\": 1, \"tickcolor\": \"rgb(36,36,36)\", \"ticks\": \"outside\"}}, \"colorscale\": {\"diverging\": [[0.0, \"rgb(103,0,31)\"], [0.1, \"rgb(178,24,43)\"], [0.2, \"rgb(214,96,77)\"], [0.3, \"rgb(244,165,130)\"], [0.4, \"rgb(253,219,199)\"], [0.5, \"rgb(247,247,247)\"], [0.6, \"rgb(209,229,240)\"], [0.7, \"rgb(146,197,222)\"], [0.8, \"rgb(67,147,195)\"], [0.9, \"rgb(33,102,172)\"], [1.0, \"rgb(5,48,97)\"]], \"sequential\": [[0.0, \"#440154\"], [0.1111111111111111, \"#482878\"], [0.2222222222222222, \"#3e4989\"], [0.3333333333333333, \"#31688e\"], [0.4444444444444444, \"#26828e\"], [0.5555555555555556, \"#1f9e89\"], [0.6666666666666666, \"#35b779\"], [0.7777777777777778, \"#6ece58\"], [0.8888888888888888, \"#b5de2b\"], [1.0, \"#fde725\"]], \"sequentialminus\": [[0.0, \"#440154\"], [0.1111111111111111, \"#482878\"], [0.2222222222222222, \"#3e4989\"], [0.3333333333333333, \"#31688e\"], [0.4444444444444444, \"#26828e\"], [0.5555555555555556, \"#1f9e89\"], [0.6666666666666666, \"#35b779\"], [0.7777777777777778, \"#6ece58\"], [0.8888888888888888, \"#b5de2b\"], [1.0, \"#fde725\"]]}, \"colorway\": [\"#1F77B4\", \"#FF7F0E\", \"#2CA02C\", \"#D62728\", \"#9467BD\", \"#8C564B\", \"#E377C2\", \"#7F7F7F\", \"#BCBD22\", \"#17BECF\"], \"font\": {\"color\": \"rgb(36,36,36)\"}, \"geo\": {\"bgcolor\": \"white\", \"lakecolor\": \"white\", \"landcolor\": \"white\", \"showlakes\": true, \"showland\": true, \"subunitcolor\": \"white\"}, \"hoverlabel\": {\"align\": \"left\"}, \"hovermode\": \"closest\", \"mapbox\": {\"style\": \"light\"}, \"paper_bgcolor\": \"white\", \"plot_bgcolor\": \"white\", \"polar\": {\"angularaxis\": {\"gridcolor\": \"rgb(232,232,232)\", \"linecolor\": \"rgb(36,36,36)\", \"showgrid\": false, \"showline\": true, \"ticks\": \"outside\"}, \"bgcolor\": \"white\", \"radialaxis\": {\"gridcolor\": \"rgb(232,232,232)\", \"linecolor\": \"rgb(36,36,36)\", \"showgrid\": false, \"showline\": true, \"ticks\": \"outside\"}}, \"scene\": {\"xaxis\": {\"backgroundcolor\": \"white\", \"gridcolor\": \"rgb(232,232,232)\", \"gridwidth\": 2, \"linecolor\": \"rgb(36,36,36)\", \"showbackground\": true, \"showgrid\": false, \"showline\": true, \"ticks\": \"outside\", \"zeroline\": false, \"zerolinecolor\": \"rgb(36,36,36)\"}, \"yaxis\": {\"backgroundcolor\": \"white\", \"gridcolor\": \"rgb(232,232,232)\", \"gridwidth\": 2, \"linecolor\": \"rgb(36,36,36)\", \"showbackground\": true, \"showgrid\": false, \"showline\": true, \"ticks\": \"outside\", \"zeroline\": false, \"zerolinecolor\": \"rgb(36,36,36)\"}, \"zaxis\": {\"backgroundcolor\": \"white\", \"gridcolor\": \"rgb(232,232,232)\", \"gridwidth\": 2, \"linecolor\": \"rgb(36,36,36)\", \"showbackground\": true, \"showgrid\": false, \"showline\": true, \"ticks\": \"outside\", \"zeroline\": false, \"zerolinecolor\": \"rgb(36,36,36)\"}}, \"shapedefaults\": {\"fillcolor\": \"black\", \"line\": {\"width\": 0}, \"opacity\": 0.3}, \"ternary\": {\"aaxis\": {\"gridcolor\": \"rgb(232,232,232)\", \"linecolor\": \"rgb(36,36,36)\", \"showgrid\": false, \"showline\": true, \"ticks\": \"outside\"}, \"baxis\": {\"gridcolor\": \"rgb(232,232,232)\", \"linecolor\": \"rgb(36,36,36)\", \"showgrid\": false, \"showline\": true, \"ticks\": \"outside\"}, \"bgcolor\": \"white\", \"caxis\": {\"gridcolor\": \"rgb(232,232,232)\", \"linecolor\": \"rgb(36,36,36)\", \"showgrid\": false, \"showline\": true, \"ticks\": \"outside\"}}, \"title\": {\"x\": 0.05}, \"xaxis\": {\"automargin\": true, \"gridcolor\": \"rgb(232,232,232)\", \"linecolor\": \"rgb(36,36,36)\", \"showgrid\": false, \"showline\": true, \"ticks\": \"outside\", \"title\": {\"standoff\": 15}, \"zeroline\": false, \"zerolinecolor\": \"rgb(36,36,36)\"}, \"yaxis\": {\"automargin\": true, \"gridcolor\": \"rgb(232,232,232)\", \"linecolor\": \"rgb(36,36,36)\", \"showgrid\": false, \"showline\": true, \"ticks\": \"outside\", \"title\": {\"standoff\": 15}, \"zeroline\": false, \"zerolinecolor\": \"rgb(36,36,36)\"}}}, \"uniformtext\": {\"minsize\": 6}, \"width\": 1500, \"xaxis\": {\"anchor\": \"y\", \"domain\": [0.0, 0.45], \"tickangle\": 90}, \"xaxis2\": {\"anchor\": \"y2\", \"domain\": [0.55, 1.0]}, \"xaxis3\": {\"anchor\": \"y3\", \"domain\": [0.0, 0.45]}, \"xaxis4\": {\"anchor\": \"y4\", \"domain\": [0.55, 1.0]}, \"xaxis5\": {\"anchor\": \"y5\", \"domain\": [0.0, 0.45]}, \"xaxis6\": {\"anchor\": \"y6\", \"domain\": [0.55, 1.0]}, \"xaxis7\": {\"anchor\": \"y7\", \"domain\": [0.0, 0.45]}, \"xaxis8\": {\"anchor\": \"y8\", \"domain\": [0.55, 1.0]}, \"yaxis\": {\"anchor\": \"x\", \"domain\": [0.84375, 1.0], \"title\": {\"text\": \"Freq\"}}, \"yaxis2\": {\"anchor\": \"x2\", \"domain\": [0.84375, 1.0], \"title\": {\"text\": \"Freq\"}}, \"yaxis3\": {\"anchor\": \"x3\", \"domain\": [0.5625, 0.71875], \"title\": {\"text\": \"Freq\"}}, \"yaxis4\": {\"anchor\": \"x4\", \"domain\": [0.5625, 0.71875], \"title\": {\"text\": \"Freq\"}}, \"yaxis5\": {\"anchor\": \"x5\", \"domain\": [0.28125, 0.4375], \"title\": {\"text\": \"Freq\"}}, \"yaxis6\": {\"anchor\": \"x6\", \"domain\": [0.28125, 0.4375], \"title\": {\"text\": \"Freq\"}}, \"yaxis7\": {\"anchor\": \"x7\", \"domain\": [0.0, 0.15625], \"title\": {\"text\": \"Freq\"}}, \"yaxis8\": {\"anchor\": \"x8\", \"domain\": [0.0, 0.15625], \"title\": {\"text\": \"Freq\"}}},\n",
       "                        {\"responsive\": true}\n",
       "                    ).then(function(){\n",
       "                            \n",
       "var gd = document.getElementById('f7a5b641-03d3-414d-a40d-03426ab63994');\n",
       "var x = new MutationObserver(function (mutations, observer) {{\n",
       "        var display = window.getComputedStyle(gd).display;\n",
       "        if (!display || display === 'none') {{\n",
       "            console.log([gd, 'removed!']);\n",
       "            Plotly.purge(gd);\n",
       "            observer.disconnect();\n",
       "        }}\n",
       "}});\n",
       "\n",
       "// Listen for the removal of the full notebook cells\n",
       "var notebookContainer = gd.closest('#notebook-container');\n",
       "if (notebookContainer) {{\n",
       "    x.observe(notebookContainer, {childList: true});\n",
       "}}\n",
       "\n",
       "// Listen for the clearing of the current output cell\n",
       "var outputEl = gd.closest('.output');\n",
       "if (outputEl) {{\n",
       "    x.observe(outputEl, {childList: true});\n",
       "}}\n",
       "\n",
       "                        })\n",
       "                };\n",
       "                });\n",
       "            </script>\n",
       "        </div>"
      ]
     },
     "metadata": {},
     "output_type": "display_data"
    }
   ],
   "source": [
    "from plotly.subplots import make_subplots\n",
    "import plotly.graph_objects as go\n",
    "fig = make_subplots(rows=4, cols=2,subplot_titles=data['city'].unique())\n",
    "loc  = [(1,1),(1,2),(2,1),(2,2),(3,1),(3,2),(4,1)]\n",
    "for city,l in zip(data['city'].unique(),loc):    \n",
    "    citydata = data[data['city'] == city]\n",
    "    citydata = citydata.groupby('category').count().reset_index()\n",
    "    citydata = citydata.sort_values('country',ascending = False)\n",
    "    fig.add_trace(go.Bar(x=citydata['category'], y=citydata['country'],marker_color='#636EFA'), row=l[0], col=l[1],)\n",
    "fig.update_yaxes(title_text=\"Freq\")\n",
    "\n",
    "\n",
    "fig.update_layout( width=1500,\n",
    "                  uniformtext_minsize=6, \n",
    "                  template = 'simple_white',\n",
    "                  height=1800,\n",
    "                  xaxis_tickangle=90,\n",
    "                  showlegend = False\n",
    "                 )\n",
    "\n",
    "fig.show()\n",
    "fig.write_image(\"fig1.png\",scale=3)"
   ]
  },
  {
   "cell_type": "code",
   "execution_count": 4,
   "metadata": {},
   "outputs": [
    {
     "data": {
      "application/vnd.plotly.v1+json": {
       "config": {
        "plotlyServerURL": "https://plot.ly"
       },
       "data": [
        {
         "boxpoints": false,
         "marker": {
          "color": "#636EFA"
         },
         "name": "Three Star",
         "type": "box",
         "xaxis": "x",
         "y": [
          438,
          138.6,
          138.6,
          138.6,
          138.6,
          138.6
         ],
         "yaxis": "y"
        },
        {
         "boxpoints": false,
         "marker": {
          "color": "#636EFA"
         },
         "name": "Quasi-four Star",
         "type": "box",
         "xaxis": "x",
         "y": [
          208,
          61,
          217,
          90,
          138.6,
          138.6,
          430,
          178,
          280,
          190,
          115,
          127,
          89,
          138.6,
          138.6,
          138.6
         ],
         "yaxis": "y"
        },
        {
         "boxpoints": false,
         "marker": {
          "color": "#636EFA"
         },
         "name": "Four Star",
         "type": "box",
         "xaxis": "x",
         "y": [
          36,
          101,
          87,
          183,
          81,
          138.6,
          143,
          83,
          138.6,
          144,
          96,
          72,
          98,
          138.6,
          311,
          22,
          108,
          37,
          160,
          171,
          192,
          272,
          79,
          19,
          163,
          178,
          57,
          138.6,
          46,
          106,
          138.6,
          131,
          146,
          67,
          138.6,
          138.6,
          89,
          262,
          14,
          138.6,
          138.6,
          390,
          202,
          370,
          138.6,
          42,
          138.6,
          173,
          131,
          138.6,
          287,
          335,
          130,
          39,
          132,
          44,
          11,
          138.6,
          127,
          196,
          80,
          75,
          233,
          138.6
         ],
         "yaxis": "y"
        },
        {
         "boxpoints": false,
         "marker": {
          "color": "#636EFA"
         },
         "name": "Quasi-five Star",
         "type": "box",
         "xaxis": "x",
         "y": [
          116,
          108,
          138.6,
          138.6,
          59,
          146,
          266,
          494,
          130,
          115,
          202,
          64,
          138.6,
          118,
          138.6,
          138.6,
          104,
          491,
          138.6,
          196,
          87,
          61,
          138.6,
          138,
          183,
          508,
          138.6,
          95,
          23,
          155,
          148,
          100,
          138.6,
          97,
          88,
          138.6,
          138.6,
          151,
          149,
          138.6,
          73,
          171,
          109,
          44,
          114,
          76,
          138.6,
          119,
          84,
          104,
          61,
          138.6,
          84,
          138.6,
          138.6,
          102,
          159,
          194,
          782,
          234,
          526,
          77,
          310,
          1269,
          207,
          250,
          106,
          138.6,
          85,
          133,
          138.6,
          51,
          160,
          138.6,
          138.6,
          87,
          95,
          115,
          50,
          100,
          135,
          176,
          1621,
          277,
          167,
          138.6,
          159,
          65,
          183,
          138.6,
          182,
          492,
          179,
          173,
          138.6,
          138.6,
          161,
          73,
          76,
          282,
          170,
          19,
          390,
          164,
          138.6,
          138.6,
          259,
          218,
          106,
          21,
          42,
          138.6,
          274
         ],
         "yaxis": "y"
        },
        {
         "boxpoints": false,
         "marker": {
          "color": "#636EFA"
         },
         "name": "Five Star",
         "type": "box",
         "xaxis": "x",
         "y": [
          172,
          138.6,
          145,
          138.6,
          138.6,
          102,
          241,
          289,
          138.6,
          99,
          123,
          138.6,
          85,
          87,
          274,
          228,
          74,
          138.6,
          203,
          147,
          96,
          138.6,
          143,
          154,
          110,
          125,
          116,
          583,
          133,
          138.6,
          21,
          77,
          140,
          162,
          240,
          23,
          16,
          52,
          1063,
          112,
          106,
          171,
          771,
          67,
          168,
          138.6,
          425,
          144,
          123,
          55,
          878,
          148,
          73,
          186,
          205,
          117,
          284,
          341,
          50,
          156,
          967,
          126,
          96,
          206,
          117,
          42,
          319,
          86,
          128,
          104,
          57,
          118,
          246,
          138.6,
          150,
          55,
          246,
          90,
          82,
          72,
          155,
          251,
          115,
          138.6,
          51,
          119,
          375,
          25,
          39,
          575,
          49,
          737,
          181,
          161,
          13,
          259,
          71,
          272,
          121,
          193,
          28,
          183,
          138.6,
          112,
          112,
          184,
          201,
          93,
          47,
          96,
          41,
          138.6,
          32,
          86,
          138.6,
          315,
          253,
          64,
          1521,
          151,
          233,
          92,
          135,
          138.6,
          187,
          138.6,
          171,
          185,
          138.6,
          205,
          120,
          188,
          303,
          244,
          48,
          367,
          210,
          170,
          96,
          132,
          45,
          56,
          78,
          220,
          78,
          342,
          108
         ],
         "yaxis": "y"
        },
        {
         "boxpoints": false,
         "marker": {
          "color": "#636EFA"
         },
         "name": "Three Star",
         "type": "box",
         "xaxis": "x2",
         "y": [
          138.6,
          138.6,
          138.6,
          138.6,
          138.6,
          138.6,
          97,
          138.6,
          138.6,
          138.6,
          138.6,
          138.6,
          138.6,
          138.6
         ],
         "yaxis": "y2"
        },
        {
         "boxpoints": false,
         "marker": {
          "color": "#636EFA"
         },
         "name": "Quasi-four Star",
         "type": "box",
         "xaxis": "x2",
         "y": [
          138.6,
          138.6,
          138.6,
          138.6,
          138.6,
          138.6,
          138.6,
          138.6,
          138.6,
          138.6,
          138.6,
          138.6,
          138.6,
          36,
          138.6,
          138.6,
          138.6,
          138.6,
          138.6,
          138.6,
          138.6,
          138.6,
          138.6,
          138.6,
          138.6,
          138.6,
          138.6,
          138.6,
          138.6,
          138.6,
          138.6,
          124,
          138.6,
          138.6,
          138.6,
          138.6,
          138.6,
          138.6,
          138.6,
          138.6,
          138.6,
          138.6,
          138.6,
          138.6,
          138.6,
          114,
          138.6,
          138.6,
          138.6,
          138.6,
          138.6,
          138.6,
          138.6,
          138.6,
          138.6,
          138.6,
          138.6,
          138.6,
          138.6,
          138.6,
          138.6,
          138.6,
          138.6,
          138.6,
          138.6,
          138.6,
          138.6,
          78,
          138.6,
          138.6,
          136,
          138.6,
          138.6,
          97,
          138.6,
          138.6,
          138.6,
          138.6,
          138.6,
          138.6,
          138.6,
          138.6,
          138.6,
          138.6,
          138.6,
          138.6,
          138.6,
          138.6,
          138.6,
          138.6,
          138.6,
          138.6,
          138.6,
          138.6,
          138.6,
          138.6,
          138.6,
          138.6,
          138.6,
          138.6,
          138.6,
          138.6,
          138.6,
          138.6,
          138.6,
          138.6,
          83,
          138.6,
          138.6,
          138.6,
          138.6,
          138.6,
          138.6,
          138.6,
          56,
          138.6,
          138.6,
          138.6,
          138.6,
          138.6,
          138.6,
          138.6,
          138.6,
          138.6,
          138.6,
          138.6,
          138.6,
          138.6,
          138.6,
          138.6,
          138.6,
          138.6,
          138.6,
          138.6,
          138.6,
          138.6,
          138.6,
          111,
          138.6,
          138.6,
          138.6,
          138.6,
          138.6,
          138.6,
          138.6,
          138.6,
          138.6,
          138.6,
          138.6,
          138.6,
          138.6,
          138.6,
          138.6,
          138.6,
          138.6,
          138.6,
          138.6,
          138.6,
          138.6,
          138.6,
          138.6,
          138.6,
          138.6,
          138.6,
          138.6,
          138.6,
          138.6,
          138.6,
          138.6,
          138.6
         ],
         "yaxis": "y2"
        },
        {
         "boxpoints": false,
         "marker": {
          "color": "#636EFA"
         },
         "name": "Four Star",
         "type": "box",
         "xaxis": "x2",
         "y": [
          138.6,
          104,
          78,
          74,
          138.6,
          138.6,
          138.6,
          138.6,
          138.6,
          138.6,
          138.6,
          138.6,
          138.6,
          138.6,
          138.6,
          128,
          138.6,
          138.6,
          138.6,
          138.6,
          138.6,
          138.6,
          138.6,
          138.6,
          138.6,
          138.6,
          138.6,
          138.6,
          138.6,
          138.6,
          138.6,
          138.6,
          138.6,
          138.6,
          138.6,
          138.6,
          138.6,
          138.6,
          138.6,
          138.6,
          138.6,
          138.6,
          138.6,
          138.6,
          138.6,
          138.6,
          138.6,
          138.6,
          138.6,
          138.6,
          138.6,
          138.6,
          138.6,
          138.6,
          138.6,
          138.6,
          138.6,
          138.6,
          138.6,
          138.6,
          138.6,
          138.6,
          138.6,
          138.6,
          138.6,
          138.6,
          138.6,
          138.6,
          138.6,
          138.6,
          138.6,
          138.6,
          138.6,
          138.6,
          138.6,
          138.6,
          138.6,
          138.6,
          138.6,
          73,
          138.6,
          138.6,
          138.6,
          138.6,
          138.6,
          109,
          138.6,
          272,
          138.6,
          138.6,
          138.6,
          138.6,
          138.6,
          138.6,
          138.6,
          138.6,
          138.6,
          138.6,
          138.6,
          138.6,
          138.6,
          138.6,
          138.6,
          138.6,
          138.6,
          138.6,
          138.6,
          138.6,
          138.6,
          138.6,
          138.6,
          138.6,
          138.6,
          138.6,
          138.6,
          138.6,
          138.6,
          138.6,
          138.6,
          138.6,
          21,
          138.6,
          138.6,
          138.6,
          138.6,
          138.6,
          138.6,
          138.6,
          138.6,
          138.6,
          138.6,
          138.6,
          138.6,
          138.6,
          138.6,
          138.6,
          138.6,
          138.6,
          138.6,
          138.6,
          138.6,
          138.6,
          83,
          84,
          117,
          138.6,
          138.6,
          138.6,
          138.6,
          138.6,
          138.6,
          138.6,
          138.6,
          138.6,
          138.6,
          138.6,
          138.6,
          138.6,
          138.6,
          138.6,
          138.6,
          138.6,
          106,
          138.6,
          138.6,
          138.6,
          138.6,
          138.6,
          138.6,
          138.6,
          138.6,
          138.6,
          138.6,
          138.6,
          138.6,
          138.6,
          138.6,
          138.6,
          138.6,
          138.6,
          138.6,
          138.6,
          138.6,
          138.6,
          138.6,
          138.6,
          138.6,
          138.6,
          138.6,
          138.6,
          138.6,
          138.6,
          138.6,
          138.6,
          138.6,
          138.6,
          138.6,
          138.6,
          138.6,
          138.6,
          138.6,
          138.6,
          138.6,
          138.6,
          138.6,
          138.6,
          138.6,
          138.6,
          138.6,
          138.6,
          138.6,
          138.6,
          138.6,
          138.6,
          138.6,
          138.6,
          138.6,
          138.6,
          56,
          138.6,
          138.6,
          138.6,
          138.6,
          138.6,
          138.6,
          138.6,
          138.6,
          138.6,
          138.6,
          138.6,
          138.6,
          138.6,
          138.6,
          138.6,
          138.6,
          138.6,
          138.6,
          138.6,
          138.6,
          138.6,
          138.6,
          138.6,
          138.6,
          138.6,
          138.6,
          138.6,
          138.6,
          138.6,
          138.6,
          138.6,
          138.6,
          138.6,
          124,
          138.6,
          138.6,
          138.6,
          138.6,
          138.6,
          138.6,
          102,
          138.6,
          138.6,
          138.6,
          138.6,
          138.6,
          138.6,
          138.6,
          138.6,
          138.6,
          138.6,
          138.6,
          138.6,
          138.6,
          138.6,
          138.6,
          138.6,
          138.6,
          138.6,
          138.6,
          138.6,
          138.6,
          138.6,
          138.6,
          138.6,
          84,
          138.6,
          138.6,
          138.6,
          138.6,
          138.6,
          138.6,
          138.6,
          138.6,
          138.6,
          138.6,
          138.6,
          138.6,
          138.6,
          138.6,
          138.6,
          138.6,
          146,
          138.6,
          138.6,
          138.6
         ],
         "yaxis": "y2"
        },
        {
         "boxpoints": false,
         "marker": {
          "color": "#636EFA"
         },
         "name": "Quasi-five Star",
         "type": "box",
         "xaxis": "x2",
         "y": [
          299,
          138.6,
          138.6,
          138.6,
          461,
          69,
          138.6,
          138.6,
          419,
          138.6,
          216,
          138.6,
          157,
          138.6,
          138.6,
          138.6,
          138.6,
          138.6,
          138.6,
          112
         ],
         "yaxis": "y2"
        },
        {
         "boxpoints": false,
         "marker": {
          "color": "#636EFA"
         },
         "name": "Five Star",
         "type": "box",
         "xaxis": "x2",
         "y": [
          138.6,
          191,
          141,
          122,
          138.6,
          138.6,
          132,
          235
         ],
         "yaxis": "y2"
        },
        {
         "boxpoints": false,
         "marker": {
          "color": "#636EFA"
         },
         "name": "Three Star",
         "type": "box",
         "xaxis": "x3",
         "y": [
          138.6,
          138.6,
          138.6,
          138.6,
          138.6,
          138.6,
          138.6,
          138.6,
          138.6,
          138.6,
          138.6,
          138.6,
          138.6,
          138.6,
          138.6,
          138.6,
          138.6,
          138.6,
          138.6,
          138.6,
          138.6,
          138.6,
          138.6,
          138.6,
          138.6,
          138.6,
          138.6,
          138.6,
          138.6,
          138.6,
          138.6,
          138.6,
          138.6,
          138.6,
          138.6,
          138.6,
          138.6,
          138.6,
          138.6,
          138.6,
          138.6,
          138.6,
          138.6,
          138.6,
          138.6,
          138.6,
          138.6,
          138.6,
          138.6,
          138.6,
          138.6,
          138.6,
          138.6,
          138.6,
          138.6,
          138.6,
          138.6,
          138.6,
          138.6,
          138.6,
          138.6,
          138.6,
          138.6,
          138.6,
          138.6,
          138.6,
          138.6,
          138.6,
          138.6,
          138.6,
          138.6,
          138.6,
          138.6,
          138.6,
          138.6,
          138.6,
          138.6,
          138.6,
          138.6,
          138.6,
          138.6,
          138.6,
          138.6,
          138.6,
          138.6,
          138.6,
          138.6,
          138.6,
          138.6,
          138.6,
          138.6,
          138.6,
          138.6,
          138.6,
          138.6,
          138.6,
          138.6,
          138.6,
          138.6,
          138.6,
          138.6,
          138.6,
          138.6,
          138.6,
          138.6,
          138.6,
          138.6,
          138.6,
          138.6,
          138.6,
          138.6,
          138.6,
          138.6,
          138.6,
          138.6,
          138.6,
          138.6,
          138.6,
          138.6,
          138.6,
          138.6,
          138.6,
          138.6,
          138.6,
          138.6,
          138.6,
          138.6,
          138.6,
          138.6,
          138.6,
          138.6,
          138.6,
          138.6,
          138.6,
          138.6,
          138.6,
          138.6,
          138.6,
          138.6,
          138.6,
          138.6,
          138.6,
          138.6,
          138.6,
          138.6,
          138.6,
          138.6,
          138.6,
          138.6,
          138.6,
          138.6,
          138.6,
          138.6,
          138.6,
          138.6,
          138.6,
          138.6,
          138.6,
          138.6,
          138.6,
          138.6,
          138.6,
          138.6,
          138.6,
          138.6,
          138.6,
          138.6,
          138.6
         ],
         "yaxis": "y3"
        },
        {
         "boxpoints": false,
         "marker": {
          "color": "#636EFA"
         },
         "name": "Quasi-four Star",
         "type": "box",
         "xaxis": "x3",
         "y": [
          138.6,
          138.6,
          138.6,
          138.6,
          138.6,
          138.6,
          24,
          138.6,
          138.6,
          138.6,
          138.6,
          138.6,
          138.6,
          138.6,
          138.6,
          138.6,
          138.6,
          138.6,
          138.6,
          138.6,
          138.6,
          138.6,
          138.6,
          138.6,
          138.6,
          138.6,
          138.6,
          138.6,
          138.6,
          138.6,
          138.6,
          138.6,
          138.6,
          138.6,
          138.6,
          138.6,
          138.6,
          138.6,
          138.6,
          138.6,
          138.6,
          138.6,
          138.6,
          138.6,
          138.6,
          138.6,
          138.6,
          138.6,
          138.6,
          138.6,
          138.6,
          138.6,
          138.6,
          138.6,
          138.6,
          138.6,
          138.6,
          138.6,
          138.6,
          138.6,
          138.6,
          138.6,
          138.6,
          138.6,
          138.6,
          138.6,
          138.6,
          138.6,
          138.6,
          138.6,
          138.6,
          138.6,
          138.6,
          138.6,
          138.6,
          138.6,
          138.6,
          138.6,
          138.6,
          138.6,
          138.6,
          138.6,
          138.6,
          94,
          138.6,
          138.6,
          138.6,
          138.6,
          138.6,
          138.6,
          138.6,
          138.6,
          138.6,
          138.6,
          138.6,
          138.6,
          138.6,
          138.6,
          138.6,
          138.6,
          138.6,
          138.6,
          138.6
         ],
         "yaxis": "y3"
        },
        {
         "boxpoints": false,
         "marker": {
          "color": "#636EFA"
         },
         "name": "Four Star",
         "type": "box",
         "xaxis": "x3",
         "y": [
          138.6,
          141,
          138.6,
          162,
          138.6,
          138.6,
          138.6,
          138.6,
          138.6,
          138.6,
          138.6,
          138.6,
          138.6,
          138.6,
          138.6,
          138.6,
          138.6,
          138.6
         ],
         "yaxis": "y3"
        },
        {
         "boxpoints": false,
         "marker": {
          "color": "#636EFA"
         },
         "name": "Quasi-five Star",
         "type": "box",
         "xaxis": "x3",
         "y": [
          139,
          143
         ],
         "yaxis": "y3"
        },
        {
         "boxpoints": false,
         "marker": {
          "color": "#636EFA"
         },
         "name": "Five Star",
         "type": "box",
         "xaxis": "x3",
         "y": [],
         "yaxis": "y3"
        },
        {
         "boxpoints": false,
         "marker": {
          "color": "#636EFA"
         },
         "name": "Three Star",
         "type": "box",
         "xaxis": "x4",
         "y": [],
         "yaxis": "y4"
        },
        {
         "boxpoints": false,
         "marker": {
          "color": "#636EFA"
         },
         "name": "Quasi-four Star",
         "type": "box",
         "xaxis": "x4",
         "y": [
          159,
          120,
          138.6,
          138.6,
          138.6,
          776,
          252,
          138.6,
          138.6,
          101,
          185
         ],
         "yaxis": "y4"
        },
        {
         "boxpoints": false,
         "marker": {
          "color": "#636EFA"
         },
         "name": "Four Star",
         "type": "box",
         "xaxis": "x4",
         "y": [
          783,
          383,
          138.6,
          102,
          156,
          79,
          171,
          138,
          91,
          192,
          82,
          453,
          53,
          93,
          77,
          206,
          151,
          90,
          202,
          244,
          109,
          46,
          127,
          161,
          326,
          298,
          122,
          107,
          37,
          281,
          71,
          93,
          102,
          338,
          175,
          205,
          189,
          122,
          231,
          24,
          103,
          22,
          136,
          27,
          71,
          32,
          632,
          1151,
          200,
          90,
          73,
          146,
          140,
          25,
          16,
          40,
          19,
          78
         ],
         "yaxis": "y4"
        },
        {
         "boxpoints": false,
         "marker": {
          "color": "#636EFA"
         },
         "name": "Quasi-five Star",
         "type": "box",
         "xaxis": "x4",
         "y": [
          158,
          101,
          178,
          38,
          671,
          175,
          37,
          356,
          104,
          503,
          256,
          138.6,
          216,
          23,
          146,
          126,
          21,
          163,
          437,
          61,
          420,
          30,
          161,
          544,
          164,
          267,
          73,
          133,
          34,
          22,
          121,
          54,
          624,
          227,
          136,
          423,
          39,
          813,
          177,
          115,
          279,
          210,
          206,
          28,
          182,
          56,
          70,
          77,
          56,
          275,
          66,
          34,
          106,
          104,
          538,
          25,
          116,
          88,
          294,
          31,
          125,
          41,
          349,
          285,
          32,
          71,
          47,
          39,
          105,
          239,
          319,
          49,
          36,
          191,
          444,
          97,
          283,
          42,
          191,
          216,
          161,
          313,
          364,
          133,
          145,
          399,
          86,
          40,
          200,
          90,
          147,
          264,
          41,
          134,
          114,
          248,
          195,
          364,
          522,
          433,
          134,
          732,
          42,
          44,
          201,
          318,
          35,
          192,
          80,
          211,
          33,
          390,
          46,
          22,
          59,
          83,
          133,
          117,
          129,
          158,
          138.6,
          371,
          56,
          274,
          201,
          62,
          373,
          691,
          321,
          98,
          53,
          144,
          69,
          43,
          47,
          347,
          284,
          139,
          72,
          37,
          235,
          111,
          1032,
          467,
          42,
          18,
          1022,
          138.6,
          118,
          389,
          363,
          223,
          61,
          135,
          163,
          366,
          52,
          95,
          54,
          181,
          68,
          198,
          46,
          46,
          108,
          496,
          731,
          184,
          280,
          76,
          192,
          12
         ],
         "yaxis": "y4"
        },
        {
         "boxpoints": false,
         "marker": {
          "color": "#636EFA"
         },
         "name": "Five Star",
         "type": "box",
         "xaxis": "x4",
         "y": [
          95,
          1994,
          103,
          395,
          89,
          713,
          614,
          341,
          578,
          336,
          117,
          581,
          56,
          74,
          670,
          851,
          264,
          433,
          115,
          316,
          498,
          641,
          346,
          387,
          93,
          57,
          12,
          188,
          1189,
          418,
          101,
          367,
          40,
          432,
          573,
          230,
          567,
          386,
          255,
          32,
          32,
          445,
          675,
          94,
          1376,
          47,
          806,
          109,
          303,
          43,
          313,
          72,
          621,
          938,
          1314,
          178,
          363,
          528,
          222,
          355,
          588,
          227,
          117,
          823,
          60,
          50,
          46,
          23,
          52,
          252,
          205,
          85,
          59,
          906,
          77,
          105,
          38,
          1564,
          279,
          491,
          736,
          178,
          420,
          433,
          106,
          133,
          117,
          185,
          141,
          386,
          185,
          145,
          203,
          253,
          160,
          414,
          60,
          511,
          59,
          174,
          40,
          243,
          222,
          117,
          232,
          41,
          111,
          121,
          54,
          61,
          746,
          568,
          302,
          41,
          296,
          1006,
          41,
          138,
          1060,
          91,
          29,
          26,
          251,
          184,
          751,
          9,
          158,
          39,
          121,
          223,
          275,
          194,
          149,
          672,
          72,
          20,
          276,
          92,
          62,
          54,
          507,
          326,
          230,
          163,
          54,
          211,
          81,
          494,
          198,
          29,
          158,
          301,
          169,
          593,
          314,
          24,
          306,
          589,
          152,
          40,
          40,
          284,
          86,
          1849,
          499,
          115,
          126,
          47,
          29,
          413,
          75,
          266,
          15,
          77,
          41,
          68,
          57,
          575,
          422,
          22,
          171,
          169,
          1203,
          49,
          168,
          338,
          51,
          578,
          245,
          578,
          157,
          874,
          241,
          75,
          17,
          110,
          282,
          75,
          138.6,
          2201,
          577,
          8,
          529,
          186,
          257,
          240,
          246,
          298,
          27,
          45,
          439,
          259,
          236,
          384,
          689,
          22,
          136,
          59,
          29,
          99,
          192,
          161,
          624,
          1220,
          335
         ],
         "yaxis": "y4"
        },
        {
         "boxpoints": false,
         "marker": {
          "color": "#636EFA"
         },
         "name": "Three Star",
         "type": "box",
         "xaxis": "x5",
         "y": [
          138.6,
          138.6,
          138.6,
          138.6,
          138.6,
          138.6,
          138.6,
          138.6,
          138.6,
          138.6,
          138.6,
          138.6,
          138.6,
          138.6,
          138.6
         ],
         "yaxis": "y5"
        },
        {
         "boxpoints": false,
         "marker": {
          "color": "#636EFA"
         },
         "name": "Quasi-four Star",
         "type": "box",
         "xaxis": "x5",
         "y": [
          138.6,
          138.6,
          138.6,
          138.6,
          74,
          138.6,
          138.6,
          138.6,
          138.6,
          138.6,
          138.6,
          143,
          138.6
         ],
         "yaxis": "y5"
        },
        {
         "boxpoints": false,
         "marker": {
          "color": "#636EFA"
         },
         "name": "Four Star",
         "type": "box",
         "xaxis": "x5",
         "y": [
          138.6,
          87,
          138.6,
          138.6,
          43,
          142,
          175,
          519,
          138,
          126,
          152,
          181,
          95,
          110,
          273,
          84,
          112,
          85,
          134,
          36,
          59,
          123,
          147,
          134,
          138.6,
          165,
          65,
          331,
          37,
          138.6,
          138.6,
          138.6,
          138.6,
          187,
          138.6,
          138.6
         ],
         "yaxis": "y5"
        },
        {
         "boxpoints": false,
         "marker": {
          "color": "#636EFA"
         },
         "name": "Quasi-five Star",
         "type": "box",
         "xaxis": "x5",
         "y": [
          135,
          484,
          1068,
          317,
          142,
          185,
          171,
          499,
          241,
          144,
          87,
          171,
          29,
          159,
          339,
          117,
          138,
          45,
          154,
          88,
          76,
          116,
          57,
          123,
          111,
          22,
          30,
          110,
          35,
          170,
          108,
          36,
          24,
          150,
          36,
          14,
          116
         ],
         "yaxis": "y5"
        },
        {
         "boxpoints": false,
         "marker": {
          "color": "#636EFA"
         },
         "name": "Five Star",
         "type": "box",
         "xaxis": "x5",
         "y": [
          62,
          196,
          258,
          22,
          383,
          336,
          53,
          55,
          157,
          100,
          120,
          47,
          41,
          156,
          67,
          367,
          65,
          112,
          523,
          165,
          175,
          79,
          83,
          175,
          50,
          403,
          309,
          305,
          295,
          10,
          12,
          69,
          38,
          112,
          570,
          24,
          55,
          156,
          93,
          78,
          148,
          1286
         ],
         "yaxis": "y5"
        },
        {
         "boxpoints": false,
         "marker": {
          "color": "#636EFA"
         },
         "name": "Three Star",
         "type": "box",
         "xaxis": "x6",
         "y": [
          85,
          138.6,
          138.6,
          138.6,
          61,
          138.6,
          138.6,
          138.6,
          154,
          138.6,
          50,
          138.6,
          138.6,
          138.6,
          138.6,
          138.6,
          138.6,
          138.6,
          138.6,
          138.6,
          138.6,
          109,
          138.6,
          138.6,
          138.6,
          138.6,
          138.6,
          138.6,
          162,
          138.6,
          138.6,
          143,
          138.6
         ],
         "yaxis": "y6"
        },
        {
         "boxpoints": false,
         "marker": {
          "color": "#636EFA"
         },
         "name": "Quasi-four Star",
         "type": "box",
         "xaxis": "x6",
         "y": [
          93,
          120,
          113,
          99,
          138.6,
          390,
          138.6,
          117,
          124,
          159,
          75,
          179,
          151,
          83,
          55,
          66,
          97,
          83,
          114,
          37,
          203,
          90,
          187,
          11,
          138.6,
          138.6,
          138.6,
          138.6,
          138.6,
          138.6,
          138.6,
          138.6,
          138.6,
          138.6,
          138.6,
          138.6,
          138.6,
          138.6,
          138.6,
          138.6,
          138.6,
          138.6,
          138.6,
          138.6,
          138.6,
          31,
          138.6,
          138.6,
          138.6,
          138.6,
          138.6,
          138.6,
          138.6,
          138.6,
          138.6,
          138.6,
          138.6,
          138.6,
          138.6,
          138.6,
          138.6,
          138.6,
          297,
          151,
          55,
          66,
          106,
          67,
          97,
          99,
          138.6,
          88,
          138.6,
          138.6,
          138.6,
          115,
          138.6,
          138.6,
          68,
          138.6,
          138.6,
          43,
          138.6,
          21,
          98,
          138.6,
          138.6,
          80,
          138.6,
          138.6,
          138.6,
          138.6,
          138.6,
          138.6,
          138.6,
          138.6,
          138.6,
          138.6,
          138.6,
          138.6,
          124,
          97,
          121,
          126,
          74,
          138.6,
          138.6,
          56,
          24,
          50,
          36,
          138.6,
          138.6,
          138.6,
          138.6,
          138.6,
          225,
          138.6,
          138.6,
          138.6,
          138.6,
          138.6,
          138.6,
          138.6,
          138.6,
          138.6,
          138.6,
          138.6,
          138.6,
          138.6,
          138.6,
          138.6,
          138.6,
          138.6,
          138.6,
          89,
          138.6,
          58,
          138.6,
          203,
          120,
          86,
          55,
          114,
          31,
          119,
          94,
          138.6,
          138.6,
          48,
          138.6,
          138.6,
          138.6,
          138.6,
          138.6,
          138.6,
          138.6,
          138.6,
          138.6,
          93,
          11,
          138.6,
          151,
          138.6,
          138.6,
          138.6,
          138.6
         ],
         "yaxis": "y6"
        },
        {
         "boxpoints": false,
         "marker": {
          "color": "#636EFA"
         },
         "name": "Four Star",
         "type": "box",
         "xaxis": "x6",
         "y": [
          42,
          80,
          45,
          360,
          108,
          138.6,
          454,
          124,
          264,
          138.6,
          96,
          90,
          91,
          138.6,
          138.6,
          11,
          38,
          214,
          122,
          227,
          67,
          127,
          37,
          138.6,
          138.6,
          138.6,
          184,
          138.6,
          202,
          98,
          138.6,
          136,
          110,
          76,
          138.6,
          172,
          176,
          134,
          138.6,
          138.6,
          138.6,
          138.6,
          122,
          143,
          127,
          283,
          138.6,
          138.6,
          110,
          138.6,
          173,
          108,
          166,
          119,
          187,
          114,
          123,
          138.6,
          137,
          184,
          95,
          138,
          36,
          138.6,
          138.6,
          138.6,
          15,
          78,
          138.6,
          138.6,
          138.6,
          138.6,
          149,
          56,
          52,
          138.6,
          236,
          34,
          146,
          162,
          123,
          138.6,
          138.6,
          138.6,
          35,
          67,
          45,
          138.6,
          138.6,
          138.6,
          138.6,
          138.6,
          138.6,
          138.6,
          138.6,
          138.6,
          138.6,
          138.6,
          138.6,
          138.6,
          138.6,
          138.6,
          138.6,
          138.6,
          138.6,
          138.6,
          138.6,
          138.6,
          138.6,
          138.6,
          138.6,
          138.6,
          138.6,
          138.6,
          138.6,
          138.6,
          138.6,
          138.6,
          146,
          58,
          138.6,
          86,
          95,
          95,
          138.6,
          138.6,
          138.6,
          138.6,
          138.6,
          138.6,
          138.6,
          138.6,
          138.6,
          138.6,
          138.6,
          127,
          138.6,
          138.6,
          138.6,
          138.6,
          138.6,
          138.6,
          138.6,
          138.6,
          138.6,
          138.6,
          44,
          138.6,
          138.6,
          138.6,
          138.6,
          138.6,
          138.6,
          138.6,
          138.6,
          138.6,
          138.6,
          138.6,
          138.6,
          138.6,
          138.6,
          138.6,
          138.6,
          138.6,
          138.6,
          138.6,
          137,
          448,
          207,
          184,
          36,
          138.6,
          138.6,
          184,
          202,
          98,
          143,
          11,
          110,
          122,
          56,
          52,
          138.6,
          138.6,
          236,
          36,
          138.6,
          138.6,
          138.6,
          86,
          138.6,
          138.6,
          138.6,
          138.6,
          138.6,
          138.6,
          138.6,
          138.6,
          138.6,
          138.6,
          138.6,
          138.6,
          138.6,
          138.6,
          138.6,
          138.6,
          138.6,
          138.6,
          138.6,
          138.6,
          138.6,
          138.6,
          138.6,
          138.6,
          138.6,
          138.6,
          138.6,
          138.6,
          138.6,
          138.6,
          138.6,
          138.6,
          138.6,
          138.6,
          138.6,
          138.6,
          138.6,
          138.6,
          138.6,
          138.6,
          138.6,
          138.6,
          138.6,
          138.6,
          138.6,
          138.6,
          138.6,
          138.6,
          138.6,
          138.6,
          138.6,
          138.6,
          138.6,
          149,
          100,
          138.6,
          138.6,
          138.6,
          138.6,
          138.6,
          173,
          138,
          84,
          87,
          90,
          90,
          96,
          138.6,
          15,
          34,
          138.6,
          10,
          138.6,
          138.6,
          138.6,
          138.6,
          138.6,
          138.6,
          138.6,
          138.6,
          138.6,
          138.6,
          138.6,
          138.6,
          138.6,
          138.6,
          138.6,
          138.6,
          138.6,
          138.6,
          138.6,
          138.6,
          138.6,
          138.6,
          138.6,
          138.6,
          138.6,
          138.6,
          138.6,
          138.6,
          124,
          108,
          80,
          45,
          360,
          138.6,
          134,
          138.6,
          164,
          138,
          96,
          173,
          123,
          95,
          145
         ],
         "yaxis": "y6"
        },
        {
         "boxpoints": false,
         "marker": {
          "color": "#636EFA"
         },
         "name": "Quasi-five Star",
         "type": "box",
         "xaxis": "x6",
         "y": [
          132,
          115,
          138.6,
          186,
          74,
          113,
          226,
          110,
          204,
          246,
          138.6,
          337,
          122,
          6,
          138.6,
          138.6,
          79,
          90,
          14,
          29,
          68,
          138.6,
          13,
          35,
          55,
          11,
          385,
          154,
          34,
          94,
          187,
          69,
          79,
          333,
          38,
          138.6,
          44,
          77,
          189,
          138.6,
          127,
          138.6,
          138.6,
          24,
          89,
          118,
          69,
          138.6,
          138.6,
          385,
          54,
          89,
          138.6,
          138.6,
          79,
          55,
          226,
          110,
          44,
          113,
          337,
          34,
          79,
          193,
          38,
          204,
          138.6,
          44,
          14,
          138.6,
          138.6,
          138.6,
          138.6,
          138.6,
          94,
          91,
          88,
          93,
          309,
          19,
          43,
          120,
          246,
          166,
          138.6,
          17,
          29,
          89,
          68,
          74,
          90
         ],
         "yaxis": "y6"
        },
        {
         "boxpoints": false,
         "marker": {
          "color": "#636EFA"
         },
         "name": "Five Star",
         "type": "box",
         "xaxis": "x6",
         "y": [
          176,
          187,
          69,
          194,
          75,
          254,
          158,
          115,
          120,
          128,
          12,
          11,
          56,
          88,
          12,
          385,
          53,
          47,
          178,
          138.6,
          172,
          78,
          75,
          102,
          47,
          88,
          125,
          176,
          14,
          80,
          126,
          64,
          71,
          55,
          132,
          89,
          13,
          27,
          29,
          18,
          142,
          42,
          138.6,
          47,
          33,
          49,
          173,
          193,
          180,
          63,
          172,
          163,
          142,
          100,
          27,
          128,
          18,
          172,
          78,
          75,
          47,
          88,
          134,
          176,
          80,
          75,
          77,
          385,
          53,
          178,
          138.6,
          230,
          29,
          97,
          126,
          158,
          29,
          126,
          138.6,
          47,
          63,
          296,
          71,
          132,
          16,
          64,
          89,
          33,
          114,
          56,
          180,
          176,
          188,
          100,
          142,
          75,
          47,
          55
         ],
         "yaxis": "y6"
        },
        {
         "boxpoints": false,
         "marker": {
          "color": "#636EFA"
         },
         "name": "Three Star",
         "type": "box",
         "xaxis": "x7",
         "y": [
          138.6,
          158,
          138.6,
          212,
          78
         ],
         "yaxis": "y7"
        },
        {
         "boxpoints": false,
         "marker": {
          "color": "#636EFA"
         },
         "name": "Quasi-four Star",
         "type": "box",
         "xaxis": "x7",
         "y": [
          138.6,
          216,
          112,
          138,
          268,
          138.6,
          64,
          94,
          57,
          82,
          114,
          177,
          64,
          291,
          67,
          261,
          168,
          126,
          93,
          88,
          55,
          73,
          201,
          138.6,
          34,
          300,
          68,
          300,
          180,
          49,
          74,
          413,
          125,
          227
         ],
         "yaxis": "y7"
        },
        {
         "boxpoints": false,
         "marker": {
          "color": "#636EFA"
         },
         "name": "Four Star",
         "type": "box",
         "xaxis": "x7",
         "y": [
          196,
          100,
          78,
          297,
          296,
          144,
          224,
          44,
          138,
          167,
          138.6,
          105,
          78,
          139,
          137,
          73,
          70,
          80,
          81,
          57,
          194,
          81,
          54,
          201,
          53,
          94,
          72,
          70,
          69,
          105,
          83,
          262,
          24,
          286,
          90,
          109,
          374,
          144,
          70,
          79,
          151,
          26,
          231,
          322,
          232,
          72,
          64,
          94,
          138.6,
          138.6,
          119,
          64,
          69,
          68,
          108,
          55,
          71,
          138.6,
          80,
          141,
          86,
          138.6,
          95,
          176,
          41,
          63,
          70,
          138.6,
          138.6,
          129,
          73,
          138.6,
          118,
          201,
          138.6,
          118,
          138.6,
          138.6,
          68,
          113,
          138.6,
          82,
          138.6,
          199,
          17,
          165,
          83,
          138.6,
          181,
          89,
          82,
          81,
          277,
          178,
          123,
          131,
          120,
          133,
          433,
          170,
          138,
          138.6,
          101,
          201,
          57,
          96,
          61,
          80,
          13,
          138.6,
          43,
          138.6
         ],
         "yaxis": "y7"
        },
        {
         "boxpoints": false,
         "marker": {
          "color": "#636EFA"
         },
         "name": "Quasi-five Star",
         "type": "box",
         "xaxis": "x7",
         "y": [
          59,
          104,
          107,
          178,
          244,
          225,
          67,
          115,
          348,
          119,
          142,
          100,
          143,
          70,
          498,
          333,
          104,
          89,
          101,
          76,
          112,
          100,
          99,
          43,
          137,
          133,
          122,
          117,
          83,
          90,
          129,
          57,
          142,
          93,
          93,
          136,
          171,
          93,
          76,
          85,
          107,
          142,
          86,
          183,
          181,
          48,
          105,
          42,
          286,
          181,
          111,
          43,
          16,
          37,
          302,
          10,
          105,
          260,
          53,
          237,
          44,
          12,
          134,
          112,
          115,
          19,
          174,
          108,
          138.6,
          81,
          138.6,
          308,
          149,
          138.6,
          138.6,
          138.6,
          138.6,
          138.6,
          41,
          69,
          111,
          148,
          107,
          138.6,
          80,
          138.6,
          186,
          95,
          138.6,
          138.6,
          138.6,
          138.6,
          98,
          120,
          113,
          244,
          100,
          237,
          107,
          67,
          225,
          104,
          43,
          116,
          49,
          142,
          44,
          86,
          56,
          121,
          100,
          165,
          88,
          148,
          140,
          68,
          70,
          113,
          49,
          75,
          120,
          89,
          121,
          97,
          138.6,
          81,
          234,
          409,
          174,
          138.6,
          77
         ],
         "yaxis": "y7"
        },
        {
         "boxpoints": false,
         "marker": {
          "color": "#636EFA"
         },
         "name": "Five Star",
         "type": "box",
         "xaxis": "x7",
         "y": [
          97,
          161,
          228,
          205,
          144,
          230,
          85,
          25,
          63,
          128,
          85,
          632,
          106,
          44,
          684,
          186,
          118,
          92,
          117,
          66,
          265,
          107,
          161,
          60,
          124,
          221,
          125,
          159,
          521,
          491,
          466,
          148,
          66,
          194,
          80,
          80,
          20,
          52,
          286,
          221,
          75,
          96,
          48,
          68,
          228,
          177,
          110,
          45,
          44,
          193,
          96,
          101,
          184,
          20,
          84,
          69,
          73,
          126,
          62,
          59,
          80,
          91,
          15,
          66,
          154,
          89,
          24,
          72,
          78,
          734,
          48,
          75,
          44,
          41,
          168,
          138.6,
          138.6,
          144,
          84,
          228,
          66,
          229,
          186,
          218,
          127,
          52,
          122,
          80,
          265,
          86,
          107,
          362,
          106,
          8,
          74,
          19,
          98,
          562,
          60,
          76,
          128,
          34,
          30,
          59
         ],
         "yaxis": "y7"
        }
       ],
       "layout": {
        "annotations": [
         {
          "font": {
           "size": 16
          },
          "showarrow": false,
          "text": "Bali",
          "x": 0.225,
          "xanchor": "center",
          "xref": "paper",
          "y": 1,
          "yanchor": "bottom",
          "yref": "paper"
         },
         {
          "font": {
           "size": 16
          },
          "showarrow": false,
          "text": "Jakarta",
          "x": 0.775,
          "xanchor": "center",
          "xref": "paper",
          "y": 1,
          "yanchor": "bottom",
          "yref": "paper"
         },
         {
          "font": {
           "size": 16
          },
          "showarrow": false,
          "text": "Batam",
          "x": 0.225,
          "xanchor": "center",
          "xref": "paper",
          "y": 0.71875,
          "yanchor": "bottom",
          "yref": "paper"
         },
         {
          "font": {
           "size": 16
          },
          "showarrow": false,
          "text": "Singapore",
          "x": 0.775,
          "xanchor": "center",
          "xref": "paper",
          "y": 0.71875,
          "yanchor": "bottom",
          "yref": "paper"
         },
         {
          "font": {
           "size": 16
          },
          "showarrow": false,
          "text": "Bangkok",
          "x": 0.225,
          "xanchor": "center",
          "xref": "paper",
          "y": 0.4375,
          "yanchor": "bottom",
          "yref": "paper"
         },
         {
          "font": {
           "size": 16
          },
          "showarrow": false,
          "text": "Pattaya",
          "x": 0.775,
          "xanchor": "center",
          "xref": "paper",
          "y": 0.4375,
          "yanchor": "bottom",
          "yref": "paper"
         },
         {
          "font": {
           "size": 16
          },
          "showarrow": false,
          "text": "Phuket",
          "x": 0.225,
          "xanchor": "center",
          "xref": "paper",
          "y": 0.15625,
          "yanchor": "bottom",
          "yref": "paper"
         }
        ],
        "height": 1200,
        "showlegend": false,
        "template": {
         "data": {
          "bar": [
           {
            "error_x": {
             "color": "rgb(36,36,36)"
            },
            "error_y": {
             "color": "rgb(36,36,36)"
            },
            "marker": {
             "line": {
              "color": "white",
              "width": 0.5
             }
            },
            "type": "bar"
           }
          ],
          "barpolar": [
           {
            "marker": {
             "line": {
              "color": "white",
              "width": 0.5
             }
            },
            "type": "barpolar"
           }
          ],
          "carpet": [
           {
            "aaxis": {
             "endlinecolor": "rgb(36,36,36)",
             "gridcolor": "white",
             "linecolor": "white",
             "minorgridcolor": "white",
             "startlinecolor": "rgb(36,36,36)"
            },
            "baxis": {
             "endlinecolor": "rgb(36,36,36)",
             "gridcolor": "white",
             "linecolor": "white",
             "minorgridcolor": "white",
             "startlinecolor": "rgb(36,36,36)"
            },
            "type": "carpet"
           }
          ],
          "choropleth": [
           {
            "colorbar": {
             "outlinewidth": 1,
             "tickcolor": "rgb(36,36,36)",
             "ticks": "outside"
            },
            "type": "choropleth"
           }
          ],
          "contour": [
           {
            "colorbar": {
             "outlinewidth": 1,
             "tickcolor": "rgb(36,36,36)",
             "ticks": "outside"
            },
            "colorscale": [
             [
              0,
              "#440154"
             ],
             [
              0.1111111111111111,
              "#482878"
             ],
             [
              0.2222222222222222,
              "#3e4989"
             ],
             [
              0.3333333333333333,
              "#31688e"
             ],
             [
              0.4444444444444444,
              "#26828e"
             ],
             [
              0.5555555555555556,
              "#1f9e89"
             ],
             [
              0.6666666666666666,
              "#35b779"
             ],
             [
              0.7777777777777778,
              "#6ece58"
             ],
             [
              0.8888888888888888,
              "#b5de2b"
             ],
             [
              1,
              "#fde725"
             ]
            ],
            "type": "contour"
           }
          ],
          "contourcarpet": [
           {
            "colorbar": {
             "outlinewidth": 1,
             "tickcolor": "rgb(36,36,36)",
             "ticks": "outside"
            },
            "type": "contourcarpet"
           }
          ],
          "heatmap": [
           {
            "colorbar": {
             "outlinewidth": 1,
             "tickcolor": "rgb(36,36,36)",
             "ticks": "outside"
            },
            "colorscale": [
             [
              0,
              "#440154"
             ],
             [
              0.1111111111111111,
              "#482878"
             ],
             [
              0.2222222222222222,
              "#3e4989"
             ],
             [
              0.3333333333333333,
              "#31688e"
             ],
             [
              0.4444444444444444,
              "#26828e"
             ],
             [
              0.5555555555555556,
              "#1f9e89"
             ],
             [
              0.6666666666666666,
              "#35b779"
             ],
             [
              0.7777777777777778,
              "#6ece58"
             ],
             [
              0.8888888888888888,
              "#b5de2b"
             ],
             [
              1,
              "#fde725"
             ]
            ],
            "type": "heatmap"
           }
          ],
          "heatmapgl": [
           {
            "colorbar": {
             "outlinewidth": 1,
             "tickcolor": "rgb(36,36,36)",
             "ticks": "outside"
            },
            "colorscale": [
             [
              0,
              "#440154"
             ],
             [
              0.1111111111111111,
              "#482878"
             ],
             [
              0.2222222222222222,
              "#3e4989"
             ],
             [
              0.3333333333333333,
              "#31688e"
             ],
             [
              0.4444444444444444,
              "#26828e"
             ],
             [
              0.5555555555555556,
              "#1f9e89"
             ],
             [
              0.6666666666666666,
              "#35b779"
             ],
             [
              0.7777777777777778,
              "#6ece58"
             ],
             [
              0.8888888888888888,
              "#b5de2b"
             ],
             [
              1,
              "#fde725"
             ]
            ],
            "type": "heatmapgl"
           }
          ],
          "histogram": [
           {
            "marker": {
             "line": {
              "color": "white",
              "width": 0.6
             }
            },
            "type": "histogram"
           }
          ],
          "histogram2d": [
           {
            "colorbar": {
             "outlinewidth": 1,
             "tickcolor": "rgb(36,36,36)",
             "ticks": "outside"
            },
            "colorscale": [
             [
              0,
              "#440154"
             ],
             [
              0.1111111111111111,
              "#482878"
             ],
             [
              0.2222222222222222,
              "#3e4989"
             ],
             [
              0.3333333333333333,
              "#31688e"
             ],
             [
              0.4444444444444444,
              "#26828e"
             ],
             [
              0.5555555555555556,
              "#1f9e89"
             ],
             [
              0.6666666666666666,
              "#35b779"
             ],
             [
              0.7777777777777778,
              "#6ece58"
             ],
             [
              0.8888888888888888,
              "#b5de2b"
             ],
             [
              1,
              "#fde725"
             ]
            ],
            "type": "histogram2d"
           }
          ],
          "histogram2dcontour": [
           {
            "colorbar": {
             "outlinewidth": 1,
             "tickcolor": "rgb(36,36,36)",
             "ticks": "outside"
            },
            "colorscale": [
             [
              0,
              "#440154"
             ],
             [
              0.1111111111111111,
              "#482878"
             ],
             [
              0.2222222222222222,
              "#3e4989"
             ],
             [
              0.3333333333333333,
              "#31688e"
             ],
             [
              0.4444444444444444,
              "#26828e"
             ],
             [
              0.5555555555555556,
              "#1f9e89"
             ],
             [
              0.6666666666666666,
              "#35b779"
             ],
             [
              0.7777777777777778,
              "#6ece58"
             ],
             [
              0.8888888888888888,
              "#b5de2b"
             ],
             [
              1,
              "#fde725"
             ]
            ],
            "type": "histogram2dcontour"
           }
          ],
          "mesh3d": [
           {
            "colorbar": {
             "outlinewidth": 1,
             "tickcolor": "rgb(36,36,36)",
             "ticks": "outside"
            },
            "type": "mesh3d"
           }
          ],
          "parcoords": [
           {
            "line": {
             "colorbar": {
              "outlinewidth": 1,
              "tickcolor": "rgb(36,36,36)",
              "ticks": "outside"
             }
            },
            "type": "parcoords"
           }
          ],
          "pie": [
           {
            "automargin": true,
            "type": "pie"
           }
          ],
          "scatter": [
           {
            "marker": {
             "colorbar": {
              "outlinewidth": 1,
              "tickcolor": "rgb(36,36,36)",
              "ticks": "outside"
             }
            },
            "type": "scatter"
           }
          ],
          "scatter3d": [
           {
            "line": {
             "colorbar": {
              "outlinewidth": 1,
              "tickcolor": "rgb(36,36,36)",
              "ticks": "outside"
             }
            },
            "marker": {
             "colorbar": {
              "outlinewidth": 1,
              "tickcolor": "rgb(36,36,36)",
              "ticks": "outside"
             }
            },
            "type": "scatter3d"
           }
          ],
          "scattercarpet": [
           {
            "marker": {
             "colorbar": {
              "outlinewidth": 1,
              "tickcolor": "rgb(36,36,36)",
              "ticks": "outside"
             }
            },
            "type": "scattercarpet"
           }
          ],
          "scattergeo": [
           {
            "marker": {
             "colorbar": {
              "outlinewidth": 1,
              "tickcolor": "rgb(36,36,36)",
              "ticks": "outside"
             }
            },
            "type": "scattergeo"
           }
          ],
          "scattergl": [
           {
            "marker": {
             "colorbar": {
              "outlinewidth": 1,
              "tickcolor": "rgb(36,36,36)",
              "ticks": "outside"
             }
            },
            "type": "scattergl"
           }
          ],
          "scattermapbox": [
           {
            "marker": {
             "colorbar": {
              "outlinewidth": 1,
              "tickcolor": "rgb(36,36,36)",
              "ticks": "outside"
             }
            },
            "type": "scattermapbox"
           }
          ],
          "scatterpolar": [
           {
            "marker": {
             "colorbar": {
              "outlinewidth": 1,
              "tickcolor": "rgb(36,36,36)",
              "ticks": "outside"
             }
            },
            "type": "scatterpolar"
           }
          ],
          "scatterpolargl": [
           {
            "marker": {
             "colorbar": {
              "outlinewidth": 1,
              "tickcolor": "rgb(36,36,36)",
              "ticks": "outside"
             }
            },
            "type": "scatterpolargl"
           }
          ],
          "scatterternary": [
           {
            "marker": {
             "colorbar": {
              "outlinewidth": 1,
              "tickcolor": "rgb(36,36,36)",
              "ticks": "outside"
             }
            },
            "type": "scatterternary"
           }
          ],
          "surface": [
           {
            "colorbar": {
             "outlinewidth": 1,
             "tickcolor": "rgb(36,36,36)",
             "ticks": "outside"
            },
            "colorscale": [
             [
              0,
              "#440154"
             ],
             [
              0.1111111111111111,
              "#482878"
             ],
             [
              0.2222222222222222,
              "#3e4989"
             ],
             [
              0.3333333333333333,
              "#31688e"
             ],
             [
              0.4444444444444444,
              "#26828e"
             ],
             [
              0.5555555555555556,
              "#1f9e89"
             ],
             [
              0.6666666666666666,
              "#35b779"
             ],
             [
              0.7777777777777778,
              "#6ece58"
             ],
             [
              0.8888888888888888,
              "#b5de2b"
             ],
             [
              1,
              "#fde725"
             ]
            ],
            "type": "surface"
           }
          ],
          "table": [
           {
            "cells": {
             "fill": {
              "color": "rgb(237,237,237)"
             },
             "line": {
              "color": "white"
             }
            },
            "header": {
             "fill": {
              "color": "rgb(217,217,217)"
             },
             "line": {
              "color": "white"
             }
            },
            "type": "table"
           }
          ]
         },
         "layout": {
          "annotationdefaults": {
           "arrowhead": 0,
           "arrowwidth": 1
          },
          "coloraxis": {
           "colorbar": {
            "outlinewidth": 1,
            "tickcolor": "rgb(36,36,36)",
            "ticks": "outside"
           }
          },
          "colorscale": {
           "diverging": [
            [
             0,
             "rgb(103,0,31)"
            ],
            [
             0.1,
             "rgb(178,24,43)"
            ],
            [
             0.2,
             "rgb(214,96,77)"
            ],
            [
             0.3,
             "rgb(244,165,130)"
            ],
            [
             0.4,
             "rgb(253,219,199)"
            ],
            [
             0.5,
             "rgb(247,247,247)"
            ],
            [
             0.6,
             "rgb(209,229,240)"
            ],
            [
             0.7,
             "rgb(146,197,222)"
            ],
            [
             0.8,
             "rgb(67,147,195)"
            ],
            [
             0.9,
             "rgb(33,102,172)"
            ],
            [
             1,
             "rgb(5,48,97)"
            ]
           ],
           "sequential": [
            [
             0,
             "#440154"
            ],
            [
             0.1111111111111111,
             "#482878"
            ],
            [
             0.2222222222222222,
             "#3e4989"
            ],
            [
             0.3333333333333333,
             "#31688e"
            ],
            [
             0.4444444444444444,
             "#26828e"
            ],
            [
             0.5555555555555556,
             "#1f9e89"
            ],
            [
             0.6666666666666666,
             "#35b779"
            ],
            [
             0.7777777777777778,
             "#6ece58"
            ],
            [
             0.8888888888888888,
             "#b5de2b"
            ],
            [
             1,
             "#fde725"
            ]
           ],
           "sequentialminus": [
            [
             0,
             "#440154"
            ],
            [
             0.1111111111111111,
             "#482878"
            ],
            [
             0.2222222222222222,
             "#3e4989"
            ],
            [
             0.3333333333333333,
             "#31688e"
            ],
            [
             0.4444444444444444,
             "#26828e"
            ],
            [
             0.5555555555555556,
             "#1f9e89"
            ],
            [
             0.6666666666666666,
             "#35b779"
            ],
            [
             0.7777777777777778,
             "#6ece58"
            ],
            [
             0.8888888888888888,
             "#b5de2b"
            ],
            [
             1,
             "#fde725"
            ]
           ]
          },
          "colorway": [
           "#1F77B4",
           "#FF7F0E",
           "#2CA02C",
           "#D62728",
           "#9467BD",
           "#8C564B",
           "#E377C2",
           "#7F7F7F",
           "#BCBD22",
           "#17BECF"
          ],
          "font": {
           "color": "rgb(36,36,36)"
          },
          "geo": {
           "bgcolor": "white",
           "lakecolor": "white",
           "landcolor": "white",
           "showlakes": true,
           "showland": true,
           "subunitcolor": "white"
          },
          "hoverlabel": {
           "align": "left"
          },
          "hovermode": "closest",
          "mapbox": {
           "style": "light"
          },
          "paper_bgcolor": "white",
          "plot_bgcolor": "white",
          "polar": {
           "angularaxis": {
            "gridcolor": "rgb(232,232,232)",
            "linecolor": "rgb(36,36,36)",
            "showgrid": false,
            "showline": true,
            "ticks": "outside"
           },
           "bgcolor": "white",
           "radialaxis": {
            "gridcolor": "rgb(232,232,232)",
            "linecolor": "rgb(36,36,36)",
            "showgrid": false,
            "showline": true,
            "ticks": "outside"
           }
          },
          "scene": {
           "xaxis": {
            "backgroundcolor": "white",
            "gridcolor": "rgb(232,232,232)",
            "gridwidth": 2,
            "linecolor": "rgb(36,36,36)",
            "showbackground": true,
            "showgrid": false,
            "showline": true,
            "ticks": "outside",
            "zeroline": false,
            "zerolinecolor": "rgb(36,36,36)"
           },
           "yaxis": {
            "backgroundcolor": "white",
            "gridcolor": "rgb(232,232,232)",
            "gridwidth": 2,
            "linecolor": "rgb(36,36,36)",
            "showbackground": true,
            "showgrid": false,
            "showline": true,
            "ticks": "outside",
            "zeroline": false,
            "zerolinecolor": "rgb(36,36,36)"
           },
           "zaxis": {
            "backgroundcolor": "white",
            "gridcolor": "rgb(232,232,232)",
            "gridwidth": 2,
            "linecolor": "rgb(36,36,36)",
            "showbackground": true,
            "showgrid": false,
            "showline": true,
            "ticks": "outside",
            "zeroline": false,
            "zerolinecolor": "rgb(36,36,36)"
           }
          },
          "shapedefaults": {
           "fillcolor": "black",
           "line": {
            "width": 0
           },
           "opacity": 0.3
          },
          "ternary": {
           "aaxis": {
            "gridcolor": "rgb(232,232,232)",
            "linecolor": "rgb(36,36,36)",
            "showgrid": false,
            "showline": true,
            "ticks": "outside"
           },
           "baxis": {
            "gridcolor": "rgb(232,232,232)",
            "linecolor": "rgb(36,36,36)",
            "showgrid": false,
            "showline": true,
            "ticks": "outside"
           },
           "bgcolor": "white",
           "caxis": {
            "gridcolor": "rgb(232,232,232)",
            "linecolor": "rgb(36,36,36)",
            "showgrid": false,
            "showline": true,
            "ticks": "outside"
           }
          },
          "title": {
           "x": 0.05
          },
          "xaxis": {
           "automargin": true,
           "gridcolor": "rgb(232,232,232)",
           "linecolor": "rgb(36,36,36)",
           "showgrid": false,
           "showline": true,
           "ticks": "outside",
           "title": {
            "standoff": 15
           },
           "zeroline": false,
           "zerolinecolor": "rgb(36,36,36)"
          },
          "yaxis": {
           "automargin": true,
           "gridcolor": "rgb(232,232,232)",
           "linecolor": "rgb(36,36,36)",
           "showgrid": false,
           "showline": true,
           "ticks": "outside",
           "title": {
            "standoff": 15
           },
           "zeroline": false,
           "zerolinecolor": "rgb(36,36,36)"
          }
         }
        },
        "width": 1000,
        "xaxis": {
         "anchor": "y",
         "domain": [
          0,
          0.45
         ]
        },
        "xaxis2": {
         "anchor": "y2",
         "domain": [
          0.55,
          1
         ]
        },
        "xaxis3": {
         "anchor": "y3",
         "domain": [
          0,
          0.45
         ]
        },
        "xaxis4": {
         "anchor": "y4",
         "domain": [
          0.55,
          1
         ]
        },
        "xaxis5": {
         "anchor": "y5",
         "domain": [
          0,
          0.45
         ]
        },
        "xaxis6": {
         "anchor": "y6",
         "domain": [
          0.55,
          1
         ]
        },
        "xaxis7": {
         "anchor": "y7",
         "domain": [
          0,
          0.45
         ]
        },
        "xaxis8": {
         "anchor": "y8",
         "domain": [
          0.55,
          1
         ]
        },
        "yaxis": {
         "anchor": "x",
         "domain": [
          0.84375,
          1
         ],
         "range": [
          0,
          600
         ],
         "title": {
          "text": "Price"
         }
        },
        "yaxis2": {
         "anchor": "x2",
         "domain": [
          0.84375,
          1
         ],
         "range": [
          0,
          600
         ],
         "title": {
          "text": "Price"
         }
        },
        "yaxis3": {
         "anchor": "x3",
         "domain": [
          0.5625,
          0.71875
         ],
         "range": [
          0,
          600
         ],
         "title": {
          "text": "Price"
         }
        },
        "yaxis4": {
         "anchor": "x4",
         "domain": [
          0.5625,
          0.71875
         ],
         "range": [
          0,
          600
         ],
         "title": {
          "text": "Price"
         }
        },
        "yaxis5": {
         "anchor": "x5",
         "domain": [
          0.28125,
          0.4375
         ],
         "range": [
          0,
          600
         ],
         "title": {
          "text": "Price"
         }
        },
        "yaxis6": {
         "anchor": "x6",
         "domain": [
          0.28125,
          0.4375
         ],
         "range": [
          0,
          600
         ],
         "title": {
          "text": "Price"
         }
        },
        "yaxis7": {
         "anchor": "x7",
         "domain": [
          0,
          0.15625
         ],
         "range": [
          0,
          600
         ],
         "title": {
          "text": "Price"
         }
        },
        "yaxis8": {
         "anchor": "x8",
         "domain": [
          0,
          0.15625
         ],
         "range": [
          0,
          600
         ],
         "title": {
          "text": "Price"
         }
        }
       }
      },
      "text/html": [
       "<div>\n",
       "        \n",
       "        \n",
       "            <div id=\"546ef72b-b5fc-48a1-a7e9-777a2c236402\" class=\"plotly-graph-div\" style=\"height:1200px; width:1000px;\"></div>\n",
       "            <script type=\"text/javascript\">\n",
       "                require([\"plotly\"], function(Plotly) {\n",
       "                    window.PLOTLYENV=window.PLOTLYENV || {};\n",
       "                    \n",
       "                if (document.getElementById(\"546ef72b-b5fc-48a1-a7e9-777a2c236402\")) {\n",
       "                    Plotly.newPlot(\n",
       "                        '546ef72b-b5fc-48a1-a7e9-777a2c236402',\n",
       "                        [{\"boxpoints\": false, \"marker\": {\"color\": \"#636EFA\"}, \"name\": \"Three Star\", \"type\": \"box\", \"xaxis\": \"x\", \"y\": [438.0, 138.6, 138.6, 138.6, 138.6, 138.6], \"yaxis\": \"y\"}, {\"boxpoints\": false, \"marker\": {\"color\": \"#636EFA\"}, \"name\": \"Quasi-four Star\", \"type\": \"box\", \"xaxis\": \"x\", \"y\": [208.0, 61.0, 217.0, 90.0, 138.6, 138.6, 430.0, 178.0, 280.0, 190.0, 115.0, 127.0, 89.0, 138.6, 138.6, 138.6], \"yaxis\": \"y\"}, {\"boxpoints\": false, \"marker\": {\"color\": \"#636EFA\"}, \"name\": \"Four Star\", \"type\": \"box\", \"xaxis\": \"x\", \"y\": [36.0, 101.0, 87.0, 183.0, 81.0, 138.6, 143.0, 83.0, 138.6, 144.0, 96.0, 72.0, 98.0, 138.6, 311.0, 22.0, 108.0, 37.0, 160.0, 171.0, 192.0, 272.0, 79.0, 19.0, 163.0, 178.0, 57.0, 138.6, 46.0, 106.0, 138.6, 131.0, 146.0, 67.0, 138.6, 138.6, 89.0, 262.0, 14.0, 138.6, 138.6, 390.0, 202.0, 370.0, 138.6, 42.0, 138.6, 173.0, 131.0, 138.6, 287.0, 335.0, 130.0, 39.0, 132.0, 44.0, 11.0, 138.6, 127.0, 196.0, 80.0, 75.0, 233.0, 138.6], \"yaxis\": \"y\"}, {\"boxpoints\": false, \"marker\": {\"color\": \"#636EFA\"}, \"name\": \"Quasi-five Star\", \"type\": \"box\", \"xaxis\": \"x\", \"y\": [116.0, 108.0, 138.6, 138.6, 59.0, 146.0, 266.0, 494.0, 130.0, 115.0, 202.0, 64.0, 138.6, 118.0, 138.6, 138.6, 104.0, 491.0, 138.6, 196.0, 87.0, 61.0, 138.6, 138.0, 183.0, 508.0, 138.6, 95.0, 23.0, 155.0, 148.0, 100.0, 138.6, 97.0, 88.0, 138.6, 138.6, 151.0, 149.0, 138.6, 73.0, 171.0, 109.0, 44.0, 114.0, 76.0, 138.6, 119.0, 84.0, 104.0, 61.0, 138.6, 84.0, 138.6, 138.6, 102.0, 159.0, 194.0, 782.0, 234.0, 526.0, 77.0, 310.0, 1269.0, 207.0, 250.0, 106.0, 138.6, 85.0, 133.0, 138.6, 51.0, 160.0, 138.6, 138.6, 87.0, 95.0, 115.0, 50.0, 100.0, 135.0, 176.0, 1621.0, 277.0, 167.0, 138.6, 159.0, 65.0, 183.0, 138.6, 182.0, 492.0, 179.0, 173.0, 138.6, 138.6, 161.0, 73.0, 76.0, 282.0, 170.0, 19.0, 390.0, 164.0, 138.6, 138.6, 259.0, 218.0, 106.0, 21.0, 42.0, 138.6, 274.0], \"yaxis\": \"y\"}, {\"boxpoints\": false, \"marker\": {\"color\": \"#636EFA\"}, \"name\": \"Five Star\", \"type\": \"box\", \"xaxis\": \"x\", \"y\": [172.0, 138.6, 145.0, 138.6, 138.6, 102.0, 241.0, 289.0, 138.6, 99.0, 123.0, 138.6, 85.0, 87.0, 274.0, 228.0, 74.0, 138.6, 203.0, 147.0, 96.0, 138.6, 143.0, 154.0, 110.0, 125.0, 116.0, 583.0, 133.0, 138.6, 21.0, 77.0, 140.0, 162.0, 240.0, 23.0, 16.0, 52.0, 1063.0, 112.0, 106.0, 171.0, 771.0, 67.0, 168.0, 138.6, 425.0, 144.0, 123.0, 55.0, 878.0, 148.0, 73.0, 186.0, 205.0, 117.0, 284.0, 341.0, 50.0, 156.0, 967.0, 126.0, 96.0, 206.0, 117.0, 42.0, 319.0, 86.0, 128.0, 104.0, 57.0, 118.0, 246.0, 138.6, 150.0, 55.0, 246.0, 90.0, 82.0, 72.0, 155.0, 251.0, 115.0, 138.6, 51.0, 119.0, 375.0, 25.0, 39.0, 575.0, 49.0, 737.0, 181.0, 161.0, 13.0, 259.0, 71.0, 272.0, 121.0, 193.0, 28.0, 183.0, 138.6, 112.0, 112.0, 184.0, 201.0, 93.0, 47.0, 96.0, 41.0, 138.6, 32.0, 86.0, 138.6, 315.0, 253.0, 64.0, 1521.0, 151.0, 233.0, 92.0, 135.0, 138.6, 187.0, 138.6, 171.0, 185.0, 138.6, 205.0, 120.0, 188.0, 303.0, 244.0, 48.0, 367.0, 210.0, 170.0, 96.0, 132.0, 45.0, 56.0, 78.0, 220.0, 78.0, 342.0, 108.0], \"yaxis\": \"y\"}, {\"boxpoints\": false, \"marker\": {\"color\": \"#636EFA\"}, \"name\": \"Three Star\", \"type\": \"box\", \"xaxis\": \"x2\", \"y\": [138.6, 138.6, 138.6, 138.6, 138.6, 138.6, 97.0, 138.6, 138.6, 138.6, 138.6, 138.6, 138.6, 138.6], \"yaxis\": \"y2\"}, {\"boxpoints\": false, \"marker\": {\"color\": \"#636EFA\"}, \"name\": \"Quasi-four Star\", \"type\": \"box\", \"xaxis\": \"x2\", \"y\": [138.6, 138.6, 138.6, 138.6, 138.6, 138.6, 138.6, 138.6, 138.6, 138.6, 138.6, 138.6, 138.6, 36.0, 138.6, 138.6, 138.6, 138.6, 138.6, 138.6, 138.6, 138.6, 138.6, 138.6, 138.6, 138.6, 138.6, 138.6, 138.6, 138.6, 138.6, 124.0, 138.6, 138.6, 138.6, 138.6, 138.6, 138.6, 138.6, 138.6, 138.6, 138.6, 138.6, 138.6, 138.6, 114.0, 138.6, 138.6, 138.6, 138.6, 138.6, 138.6, 138.6, 138.6, 138.6, 138.6, 138.6, 138.6, 138.6, 138.6, 138.6, 138.6, 138.6, 138.6, 138.6, 138.6, 138.6, 78.0, 138.6, 138.6, 136.0, 138.6, 138.6, 97.0, 138.6, 138.6, 138.6, 138.6, 138.6, 138.6, 138.6, 138.6, 138.6, 138.6, 138.6, 138.6, 138.6, 138.6, 138.6, 138.6, 138.6, 138.6, 138.6, 138.6, 138.6, 138.6, 138.6, 138.6, 138.6, 138.6, 138.6, 138.6, 138.6, 138.6, 138.6, 138.6, 83.0, 138.6, 138.6, 138.6, 138.6, 138.6, 138.6, 138.6, 56.0, 138.6, 138.6, 138.6, 138.6, 138.6, 138.6, 138.6, 138.6, 138.6, 138.6, 138.6, 138.6, 138.6, 138.6, 138.6, 138.6, 138.6, 138.6, 138.6, 138.6, 138.6, 138.6, 111.0, 138.6, 138.6, 138.6, 138.6, 138.6, 138.6, 138.6, 138.6, 138.6, 138.6, 138.6, 138.6, 138.6, 138.6, 138.6, 138.6, 138.6, 138.6, 138.6, 138.6, 138.6, 138.6, 138.6, 138.6, 138.6, 138.6, 138.6, 138.6, 138.6, 138.6, 138.6, 138.6], \"yaxis\": \"y2\"}, {\"boxpoints\": false, \"marker\": {\"color\": \"#636EFA\"}, \"name\": \"Four Star\", \"type\": \"box\", \"xaxis\": \"x2\", \"y\": [138.6, 104.0, 78.0, 74.0, 138.6, 138.6, 138.6, 138.6, 138.6, 138.6, 138.6, 138.6, 138.6, 138.6, 138.6, 128.0, 138.6, 138.6, 138.6, 138.6, 138.6, 138.6, 138.6, 138.6, 138.6, 138.6, 138.6, 138.6, 138.6, 138.6, 138.6, 138.6, 138.6, 138.6, 138.6, 138.6, 138.6, 138.6, 138.6, 138.6, 138.6, 138.6, 138.6, 138.6, 138.6, 138.6, 138.6, 138.6, 138.6, 138.6, 138.6, 138.6, 138.6, 138.6, 138.6, 138.6, 138.6, 138.6, 138.6, 138.6, 138.6, 138.6, 138.6, 138.6, 138.6, 138.6, 138.6, 138.6, 138.6, 138.6, 138.6, 138.6, 138.6, 138.6, 138.6, 138.6, 138.6, 138.6, 138.6, 73.0, 138.6, 138.6, 138.6, 138.6, 138.6, 109.0, 138.6, 272.0, 138.6, 138.6, 138.6, 138.6, 138.6, 138.6, 138.6, 138.6, 138.6, 138.6, 138.6, 138.6, 138.6, 138.6, 138.6, 138.6, 138.6, 138.6, 138.6, 138.6, 138.6, 138.6, 138.6, 138.6, 138.6, 138.6, 138.6, 138.6, 138.6, 138.6, 138.6, 138.6, 21.0, 138.6, 138.6, 138.6, 138.6, 138.6, 138.6, 138.6, 138.6, 138.6, 138.6, 138.6, 138.6, 138.6, 138.6, 138.6, 138.6, 138.6, 138.6, 138.6, 138.6, 138.6, 83.0, 84.0, 117.0, 138.6, 138.6, 138.6, 138.6, 138.6, 138.6, 138.6, 138.6, 138.6, 138.6, 138.6, 138.6, 138.6, 138.6, 138.6, 138.6, 138.6, 106.0, 138.6, 138.6, 138.6, 138.6, 138.6, 138.6, 138.6, 138.6, 138.6, 138.6, 138.6, 138.6, 138.6, 138.6, 138.6, 138.6, 138.6, 138.6, 138.6, 138.6, 138.6, 138.6, 138.6, 138.6, 138.6, 138.6, 138.6, 138.6, 138.6, 138.6, 138.6, 138.6, 138.6, 138.6, 138.6, 138.6, 138.6, 138.6, 138.6, 138.6, 138.6, 138.6, 138.6, 138.6, 138.6, 138.6, 138.6, 138.6, 138.6, 138.6, 138.6, 138.6, 138.6, 138.6, 138.6, 56.0, 138.6, 138.6, 138.6, 138.6, 138.6, 138.6, 138.6, 138.6, 138.6, 138.6, 138.6, 138.6, 138.6, 138.6, 138.6, 138.6, 138.6, 138.6, 138.6, 138.6, 138.6, 138.6, 138.6, 138.6, 138.6, 138.6, 138.6, 138.6, 138.6, 138.6, 138.6, 138.6, 138.6, 124.0, 138.6, 138.6, 138.6, 138.6, 138.6, 138.6, 102.0, 138.6, 138.6, 138.6, 138.6, 138.6, 138.6, 138.6, 138.6, 138.6, 138.6, 138.6, 138.6, 138.6, 138.6, 138.6, 138.6, 138.6, 138.6, 138.6, 138.6, 138.6, 138.6, 138.6, 138.6, 84.0, 138.6, 138.6, 138.6, 138.6, 138.6, 138.6, 138.6, 138.6, 138.6, 138.6, 138.6, 138.6, 138.6, 138.6, 138.6, 138.6, 146.0, 138.6, 138.6, 138.6], \"yaxis\": \"y2\"}, {\"boxpoints\": false, \"marker\": {\"color\": \"#636EFA\"}, \"name\": \"Quasi-five Star\", \"type\": \"box\", \"xaxis\": \"x2\", \"y\": [299.0, 138.6, 138.6, 138.6, 461.0, 69.0, 138.6, 138.6, 419.0, 138.6, 216.0, 138.6, 157.0, 138.6, 138.6, 138.6, 138.6, 138.6, 138.6, 112.0], \"yaxis\": \"y2\"}, {\"boxpoints\": false, \"marker\": {\"color\": \"#636EFA\"}, \"name\": \"Five Star\", \"type\": \"box\", \"xaxis\": \"x2\", \"y\": [138.6, 191.0, 141.0, 122.0, 138.6, 138.6, 132.0, 235.0], \"yaxis\": \"y2\"}, {\"boxpoints\": false, \"marker\": {\"color\": \"#636EFA\"}, \"name\": \"Three Star\", \"type\": \"box\", \"xaxis\": \"x3\", \"y\": [138.6, 138.6, 138.6, 138.6, 138.6, 138.6, 138.6, 138.6, 138.6, 138.6, 138.6, 138.6, 138.6, 138.6, 138.6, 138.6, 138.6, 138.6, 138.6, 138.6, 138.6, 138.6, 138.6, 138.6, 138.6, 138.6, 138.6, 138.6, 138.6, 138.6, 138.6, 138.6, 138.6, 138.6, 138.6, 138.6, 138.6, 138.6, 138.6, 138.6, 138.6, 138.6, 138.6, 138.6, 138.6, 138.6, 138.6, 138.6, 138.6, 138.6, 138.6, 138.6, 138.6, 138.6, 138.6, 138.6, 138.6, 138.6, 138.6, 138.6, 138.6, 138.6, 138.6, 138.6, 138.6, 138.6, 138.6, 138.6, 138.6, 138.6, 138.6, 138.6, 138.6, 138.6, 138.6, 138.6, 138.6, 138.6, 138.6, 138.6, 138.6, 138.6, 138.6, 138.6, 138.6, 138.6, 138.6, 138.6, 138.6, 138.6, 138.6, 138.6, 138.6, 138.6, 138.6, 138.6, 138.6, 138.6, 138.6, 138.6, 138.6, 138.6, 138.6, 138.6, 138.6, 138.6, 138.6, 138.6, 138.6, 138.6, 138.6, 138.6, 138.6, 138.6, 138.6, 138.6, 138.6, 138.6, 138.6, 138.6, 138.6, 138.6, 138.6, 138.6, 138.6, 138.6, 138.6, 138.6, 138.6, 138.6, 138.6, 138.6, 138.6, 138.6, 138.6, 138.6, 138.6, 138.6, 138.6, 138.6, 138.6, 138.6, 138.6, 138.6, 138.6, 138.6, 138.6, 138.6, 138.6, 138.6, 138.6, 138.6, 138.6, 138.6, 138.6, 138.6, 138.6, 138.6, 138.6, 138.6, 138.6, 138.6, 138.6, 138.6, 138.6, 138.6, 138.6, 138.6], \"yaxis\": \"y3\"}, {\"boxpoints\": false, \"marker\": {\"color\": \"#636EFA\"}, \"name\": \"Quasi-four Star\", \"type\": \"box\", \"xaxis\": \"x3\", \"y\": [138.6, 138.6, 138.6, 138.6, 138.6, 138.6, 24.0, 138.6, 138.6, 138.6, 138.6, 138.6, 138.6, 138.6, 138.6, 138.6, 138.6, 138.6, 138.6, 138.6, 138.6, 138.6, 138.6, 138.6, 138.6, 138.6, 138.6, 138.6, 138.6, 138.6, 138.6, 138.6, 138.6, 138.6, 138.6, 138.6, 138.6, 138.6, 138.6, 138.6, 138.6, 138.6, 138.6, 138.6, 138.6, 138.6, 138.6, 138.6, 138.6, 138.6, 138.6, 138.6, 138.6, 138.6, 138.6, 138.6, 138.6, 138.6, 138.6, 138.6, 138.6, 138.6, 138.6, 138.6, 138.6, 138.6, 138.6, 138.6, 138.6, 138.6, 138.6, 138.6, 138.6, 138.6, 138.6, 138.6, 138.6, 138.6, 138.6, 138.6, 138.6, 138.6, 138.6, 94.0, 138.6, 138.6, 138.6, 138.6, 138.6, 138.6, 138.6, 138.6, 138.6, 138.6, 138.6, 138.6, 138.6, 138.6, 138.6, 138.6, 138.6, 138.6, 138.6], \"yaxis\": \"y3\"}, {\"boxpoints\": false, \"marker\": {\"color\": \"#636EFA\"}, \"name\": \"Four Star\", \"type\": \"box\", \"xaxis\": \"x3\", \"y\": [138.6, 141.0, 138.6, 162.0, 138.6, 138.6, 138.6, 138.6, 138.6, 138.6, 138.6, 138.6, 138.6, 138.6, 138.6, 138.6, 138.6, 138.6], \"yaxis\": \"y3\"}, {\"boxpoints\": false, \"marker\": {\"color\": \"#636EFA\"}, \"name\": \"Quasi-five Star\", \"type\": \"box\", \"xaxis\": \"x3\", \"y\": [139.0, 143.0], \"yaxis\": \"y3\"}, {\"boxpoints\": false, \"marker\": {\"color\": \"#636EFA\"}, \"name\": \"Five Star\", \"type\": \"box\", \"xaxis\": \"x3\", \"y\": [], \"yaxis\": \"y3\"}, {\"boxpoints\": false, \"marker\": {\"color\": \"#636EFA\"}, \"name\": \"Three Star\", \"type\": \"box\", \"xaxis\": \"x4\", \"y\": [], \"yaxis\": \"y4\"}, {\"boxpoints\": false, \"marker\": {\"color\": \"#636EFA\"}, \"name\": \"Quasi-four Star\", \"type\": \"box\", \"xaxis\": \"x4\", \"y\": [159.0, 120.0, 138.6, 138.6, 138.6, 776.0, 252.0, 138.6, 138.6, 101.0, 185.0], \"yaxis\": \"y4\"}, {\"boxpoints\": false, \"marker\": {\"color\": \"#636EFA\"}, \"name\": \"Four Star\", \"type\": \"box\", \"xaxis\": \"x4\", \"y\": [783.0, 383.0, 138.6, 102.0, 156.0, 79.0, 171.0, 138.0, 91.0, 192.0, 82.0, 453.0, 53.0, 93.0, 77.0, 206.0, 151.0, 90.0, 202.0, 244.0, 109.0, 46.0, 127.0, 161.0, 326.0, 298.0, 122.0, 107.0, 37.0, 281.0, 71.0, 93.0, 102.0, 338.0, 175.0, 205.0, 189.0, 122.0, 231.0, 24.0, 103.0, 22.0, 136.0, 27.0, 71.0, 32.0, 632.0, 1151.0, 200.0, 90.0, 73.0, 146.0, 140.0, 25.0, 16.0, 40.0, 19.0, 78.0], \"yaxis\": \"y4\"}, {\"boxpoints\": false, \"marker\": {\"color\": \"#636EFA\"}, \"name\": \"Quasi-five Star\", \"type\": \"box\", \"xaxis\": \"x4\", \"y\": [158.0, 101.0, 178.0, 38.0, 671.0, 175.0, 37.0, 356.0, 104.0, 503.0, 256.0, 138.6, 216.0, 23.0, 146.0, 126.0, 21.0, 163.0, 437.0, 61.0, 420.0, 30.0, 161.0, 544.0, 164.0, 267.0, 73.0, 133.0, 34.0, 22.0, 121.0, 54.0, 624.0, 227.0, 136.0, 423.0, 39.0, 813.0, 177.0, 115.0, 279.0, 210.0, 206.0, 28.0, 182.0, 56.0, 70.0, 77.0, 56.0, 275.0, 66.0, 34.0, 106.0, 104.0, 538.0, 25.0, 116.0, 88.0, 294.0, 31.0, 125.0, 41.0, 349.0, 285.0, 32.0, 71.0, 47.0, 39.0, 105.0, 239.0, 319.0, 49.0, 36.0, 191.0, 444.0, 97.0, 283.0, 42.0, 191.0, 216.0, 161.0, 313.0, 364.0, 133.0, 145.0, 399.0, 86.0, 40.0, 200.0, 90.0, 147.0, 264.0, 41.0, 134.0, 114.0, 248.0, 195.0, 364.0, 522.0, 433.0, 134.0, 732.0, 42.0, 44.0, 201.0, 318.0, 35.0, 192.0, 80.0, 211.0, 33.0, 390.0, 46.0, 22.0, 59.0, 83.0, 133.0, 117.0, 129.0, 158.0, 138.6, 371.0, 56.0, 274.0, 201.0, 62.0, 373.0, 691.0, 321.0, 98.0, 53.0, 144.0, 69.0, 43.0, 47.0, 347.0, 284.0, 139.0, 72.0, 37.0, 235.0, 111.0, 1032.0, 467.0, 42.0, 18.0, 1022.0, 138.6, 118.0, 389.0, 363.0, 223.0, 61.0, 135.0, 163.0, 366.0, 52.0, 95.0, 54.0, 181.0, 68.0, 198.0, 46.0, 46.0, 108.0, 496.0, 731.0, 184.0, 280.0, 76.0, 192.0, 12.0], \"yaxis\": \"y4\"}, {\"boxpoints\": false, \"marker\": {\"color\": \"#636EFA\"}, \"name\": \"Five Star\", \"type\": \"box\", \"xaxis\": \"x4\", \"y\": [95.0, 1994.0, 103.0, 395.0, 89.0, 713.0, 614.0, 341.0, 578.0, 336.0, 117.0, 581.0, 56.0, 74.0, 670.0, 851.0, 264.0, 433.0, 115.0, 316.0, 498.0, 641.0, 346.0, 387.0, 93.0, 57.0, 12.0, 188.0, 1189.0, 418.0, 101.0, 367.0, 40.0, 432.0, 573.0, 230.0, 567.0, 386.0, 255.0, 32.0, 32.0, 445.0, 675.0, 94.0, 1376.0, 47.0, 806.0, 109.0, 303.0, 43.0, 313.0, 72.0, 621.0, 938.0, 1314.0, 178.0, 363.0, 528.0, 222.0, 355.0, 588.0, 227.0, 117.0, 823.0, 60.0, 50.0, 46.0, 23.0, 52.0, 252.0, 205.0, 85.0, 59.0, 906.0, 77.0, 105.0, 38.0, 1564.0, 279.0, 491.0, 736.0, 178.0, 420.0, 433.0, 106.0, 133.0, 117.0, 185.0, 141.0, 386.0, 185.0, 145.0, 203.0, 253.0, 160.0, 414.0, 60.0, 511.0, 59.0, 174.0, 40.0, 243.0, 222.0, 117.0, 232.0, 41.0, 111.0, 121.0, 54.0, 61.0, 746.0, 568.0, 302.0, 41.0, 296.0, 1006.0, 41.0, 138.0, 1060.0, 91.0, 29.0, 26.0, 251.0, 184.0, 751.0, 9.0, 158.0, 39.0, 121.0, 223.0, 275.0, 194.0, 149.0, 672.0, 72.0, 20.0, 276.0, 92.0, 62.0, 54.0, 507.0, 326.0, 230.0, 163.0, 54.0, 211.0, 81.0, 494.0, 198.0, 29.0, 158.0, 301.0, 169.0, 593.0, 314.0, 24.0, 306.0, 589.0, 152.0, 40.0, 40.0, 284.0, 86.0, 1849.0, 499.0, 115.0, 126.0, 47.0, 29.0, 413.0, 75.0, 266.0, 15.0, 77.0, 41.0, 68.0, 57.0, 575.0, 422.0, 22.0, 171.0, 169.0, 1203.0, 49.0, 168.0, 338.0, 51.0, 578.0, 245.0, 578.0, 157.0, 874.0, 241.0, 75.0, 17.0, 110.0, 282.0, 75.0, 138.6, 2201.0, 577.0, 8.0, 529.0, 186.0, 257.0, 240.0, 246.0, 298.0, 27.0, 45.0, 439.0, 259.0, 236.0, 384.0, 689.0, 22.0, 136.0, 59.0, 29.0, 99.0, 192.0, 161.0, 624.0, 1220.0, 335.0], \"yaxis\": \"y4\"}, {\"boxpoints\": false, \"marker\": {\"color\": \"#636EFA\"}, \"name\": \"Three Star\", \"type\": \"box\", \"xaxis\": \"x5\", \"y\": [138.6, 138.6, 138.6, 138.6, 138.6, 138.6, 138.6, 138.6, 138.6, 138.6, 138.6, 138.6, 138.6, 138.6, 138.6], \"yaxis\": \"y5\"}, {\"boxpoints\": false, \"marker\": {\"color\": \"#636EFA\"}, \"name\": \"Quasi-four Star\", \"type\": \"box\", \"xaxis\": \"x5\", \"y\": [138.6, 138.6, 138.6, 138.6, 74.0, 138.6, 138.6, 138.6, 138.6, 138.6, 138.6, 143.0, 138.6], \"yaxis\": \"y5\"}, {\"boxpoints\": false, \"marker\": {\"color\": \"#636EFA\"}, \"name\": \"Four Star\", \"type\": \"box\", \"xaxis\": \"x5\", \"y\": [138.6, 87.0, 138.6, 138.6, 43.0, 142.0, 175.0, 519.0, 138.0, 126.0, 152.0, 181.0, 95.0, 110.0, 273.0, 84.0, 112.0, 85.0, 134.0, 36.0, 59.0, 123.0, 147.0, 134.0, 138.6, 165.0, 65.0, 331.0, 37.0, 138.6, 138.6, 138.6, 138.6, 187.0, 138.6, 138.6], \"yaxis\": \"y5\"}, {\"boxpoints\": false, \"marker\": {\"color\": \"#636EFA\"}, \"name\": \"Quasi-five Star\", \"type\": \"box\", \"xaxis\": \"x5\", \"y\": [135.0, 484.0, 1068.0, 317.0, 142.0, 185.0, 171.0, 499.0, 241.0, 144.0, 87.0, 171.0, 29.0, 159.0, 339.0, 117.0, 138.0, 45.0, 154.0, 88.0, 76.0, 116.0, 57.0, 123.0, 111.0, 22.0, 30.0, 110.0, 35.0, 170.0, 108.0, 36.0, 24.0, 150.0, 36.0, 14.0, 116.0], \"yaxis\": \"y5\"}, {\"boxpoints\": false, \"marker\": {\"color\": \"#636EFA\"}, \"name\": \"Five Star\", \"type\": \"box\", \"xaxis\": \"x5\", \"y\": [62.0, 196.0, 258.0, 22.0, 383.0, 336.0, 53.0, 55.0, 157.0, 100.0, 120.0, 47.0, 41.0, 156.0, 67.0, 367.0, 65.0, 112.0, 523.0, 165.0, 175.0, 79.0, 83.0, 175.0, 50.0, 403.0, 309.0, 305.0, 295.0, 10.0, 12.0, 69.0, 38.0, 112.0, 570.0, 24.0, 55.0, 156.0, 93.0, 78.0, 148.0, 1286.0], \"yaxis\": \"y5\"}, {\"boxpoints\": false, \"marker\": {\"color\": \"#636EFA\"}, \"name\": \"Three Star\", \"type\": \"box\", \"xaxis\": \"x6\", \"y\": [85.0, 138.6, 138.6, 138.6, 61.0, 138.6, 138.6, 138.6, 154.0, 138.6, 50.0, 138.6, 138.6, 138.6, 138.6, 138.6, 138.6, 138.6, 138.6, 138.6, 138.6, 109.0, 138.6, 138.6, 138.6, 138.6, 138.6, 138.6, 162.0, 138.6, 138.6, 143.0, 138.6], \"yaxis\": \"y6\"}, {\"boxpoints\": false, \"marker\": {\"color\": \"#636EFA\"}, \"name\": \"Quasi-four Star\", \"type\": \"box\", \"xaxis\": \"x6\", \"y\": [93.0, 120.0, 113.0, 99.0, 138.6, 390.0, 138.6, 117.0, 124.0, 159.0, 75.0, 179.0, 151.0, 83.0, 55.0, 66.0, 97.0, 83.0, 114.0, 37.0, 203.0, 90.0, 187.0, 11.0, 138.6, 138.6, 138.6, 138.6, 138.6, 138.6, 138.6, 138.6, 138.6, 138.6, 138.6, 138.6, 138.6, 138.6, 138.6, 138.6, 138.6, 138.6, 138.6, 138.6, 138.6, 31.0, 138.6, 138.6, 138.6, 138.6, 138.6, 138.6, 138.6, 138.6, 138.6, 138.6, 138.6, 138.6, 138.6, 138.6, 138.6, 138.6, 297.0, 151.0, 55.0, 66.0, 106.0, 67.0, 97.0, 99.0, 138.6, 88.0, 138.6, 138.6, 138.6, 115.0, 138.6, 138.6, 68.0, 138.6, 138.6, 43.0, 138.6, 21.0, 98.0, 138.6, 138.6, 80.0, 138.6, 138.6, 138.6, 138.6, 138.6, 138.6, 138.6, 138.6, 138.6, 138.6, 138.6, 138.6, 124.0, 97.0, 121.0, 126.0, 74.0, 138.6, 138.6, 56.0, 24.0, 50.0, 36.0, 138.6, 138.6, 138.6, 138.6, 138.6, 225.0, 138.6, 138.6, 138.6, 138.6, 138.6, 138.6, 138.6, 138.6, 138.6, 138.6, 138.6, 138.6, 138.6, 138.6, 138.6, 138.6, 138.6, 138.6, 89.0, 138.6, 58.0, 138.6, 203.0, 120.0, 86.0, 55.0, 114.0, 31.0, 119.0, 94.0, 138.6, 138.6, 48.0, 138.6, 138.6, 138.6, 138.6, 138.6, 138.6, 138.6, 138.6, 138.6, 93.0, 11.0, 138.6, 151.0, 138.6, 138.6, 138.6, 138.6], \"yaxis\": \"y6\"}, {\"boxpoints\": false, \"marker\": {\"color\": \"#636EFA\"}, \"name\": \"Four Star\", \"type\": \"box\", \"xaxis\": \"x6\", \"y\": [42.0, 80.0, 45.0, 360.0, 108.0, 138.6, 454.0, 124.0, 264.0, 138.6, 96.0, 90.0, 91.0, 138.6, 138.6, 11.0, 38.0, 214.0, 122.0, 227.0, 67.0, 127.0, 37.0, 138.6, 138.6, 138.6, 184.0, 138.6, 202.0, 98.0, 138.6, 136.0, 110.0, 76.0, 138.6, 172.0, 176.0, 134.0, 138.6, 138.6, 138.6, 138.6, 122.0, 143.0, 127.0, 283.0, 138.6, 138.6, 110.0, 138.6, 173.0, 108.0, 166.0, 119.0, 187.0, 114.0, 123.0, 138.6, 137.0, 184.0, 95.0, 138.0, 36.0, 138.6, 138.6, 138.6, 15.0, 78.0, 138.6, 138.6, 138.6, 138.6, 149.0, 56.0, 52.0, 138.6, 236.0, 34.0, 146.0, 162.0, 123.0, 138.6, 138.6, 138.6, 35.0, 67.0, 45.0, 138.6, 138.6, 138.6, 138.6, 138.6, 138.6, 138.6, 138.6, 138.6, 138.6, 138.6, 138.6, 138.6, 138.6, 138.6, 138.6, 138.6, 138.6, 138.6, 138.6, 138.6, 138.6, 138.6, 138.6, 138.6, 138.6, 138.6, 138.6, 138.6, 138.6, 138.6, 146.0, 58.0, 138.6, 86.0, 95.0, 95.0, 138.6, 138.6, 138.6, 138.6, 138.6, 138.6, 138.6, 138.6, 138.6, 138.6, 138.6, 127.0, 138.6, 138.6, 138.6, 138.6, 138.6, 138.6, 138.6, 138.6, 138.6, 138.6, 44.0, 138.6, 138.6, 138.6, 138.6, 138.6, 138.6, 138.6, 138.6, 138.6, 138.6, 138.6, 138.6, 138.6, 138.6, 138.6, 138.6, 138.6, 138.6, 138.6, 137.0, 448.0, 207.0, 184.0, 36.0, 138.6, 138.6, 184.0, 202.0, 98.0, 143.0, 11.0, 110.0, 122.0, 56.0, 52.0, 138.6, 138.6, 236.0, 36.0, 138.6, 138.6, 138.6, 86.0, 138.6, 138.6, 138.6, 138.6, 138.6, 138.6, 138.6, 138.6, 138.6, 138.6, 138.6, 138.6, 138.6, 138.6, 138.6, 138.6, 138.6, 138.6, 138.6, 138.6, 138.6, 138.6, 138.6, 138.6, 138.6, 138.6, 138.6, 138.6, 138.6, 138.6, 138.6, 138.6, 138.6, 138.6, 138.6, 138.6, 138.6, 138.6, 138.6, 138.6, 138.6, 138.6, 138.6, 138.6, 138.6, 138.6, 138.6, 138.6, 138.6, 138.6, 138.6, 138.6, 138.6, 149.0, 100.0, 138.6, 138.6, 138.6, 138.6, 138.6, 173.0, 138.0, 84.0, 87.0, 90.0, 90.0, 96.0, 138.6, 15.0, 34.0, 138.6, 10.0, 138.6, 138.6, 138.6, 138.6, 138.6, 138.6, 138.6, 138.6, 138.6, 138.6, 138.6, 138.6, 138.6, 138.6, 138.6, 138.6, 138.6, 138.6, 138.6, 138.6, 138.6, 138.6, 138.6, 138.6, 138.6, 138.6, 138.6, 138.6, 124.0, 108.0, 80.0, 45.0, 360.0, 138.6, 134.0, 138.6, 164.0, 138.0, 96.0, 173.0, 123.0, 95.0, 145.0], \"yaxis\": \"y6\"}, {\"boxpoints\": false, \"marker\": {\"color\": \"#636EFA\"}, \"name\": \"Quasi-five Star\", \"type\": \"box\", \"xaxis\": \"x6\", \"y\": [132.0, 115.0, 138.6, 186.0, 74.0, 113.0, 226.0, 110.0, 204.0, 246.0, 138.6, 337.0, 122.0, 6.0, 138.6, 138.6, 79.0, 90.0, 14.0, 29.0, 68.0, 138.6, 13.0, 35.0, 55.0, 11.0, 385.0, 154.0, 34.0, 94.0, 187.0, 69.0, 79.0, 333.0, 38.0, 138.6, 44.0, 77.0, 189.0, 138.6, 127.0, 138.6, 138.6, 24.0, 89.0, 118.0, 69.0, 138.6, 138.6, 385.0, 54.0, 89.0, 138.6, 138.6, 79.0, 55.0, 226.0, 110.0, 44.0, 113.0, 337.0, 34.0, 79.0, 193.0, 38.0, 204.0, 138.6, 44.0, 14.0, 138.6, 138.6, 138.6, 138.6, 138.6, 94.0, 91.0, 88.0, 93.0, 309.0, 19.0, 43.0, 120.0, 246.0, 166.0, 138.6, 17.0, 29.0, 89.0, 68.0, 74.0, 90.0], \"yaxis\": \"y6\"}, {\"boxpoints\": false, \"marker\": {\"color\": \"#636EFA\"}, \"name\": \"Five Star\", \"type\": \"box\", \"xaxis\": \"x6\", \"y\": [176.0, 187.0, 69.0, 194.0, 75.0, 254.0, 158.0, 115.0, 120.0, 128.0, 12.0, 11.0, 56.0, 88.0, 12.0, 385.0, 53.0, 47.0, 178.0, 138.6, 172.0, 78.0, 75.0, 102.0, 47.0, 88.0, 125.0, 176.0, 14.0, 80.0, 126.0, 64.0, 71.0, 55.0, 132.0, 89.0, 13.0, 27.0, 29.0, 18.0, 142.0, 42.0, 138.6, 47.0, 33.0, 49.0, 173.0, 193.0, 180.0, 63.0, 172.0, 163.0, 142.0, 100.0, 27.0, 128.0, 18.0, 172.0, 78.0, 75.0, 47.0, 88.0, 134.0, 176.0, 80.0, 75.0, 77.0, 385.0, 53.0, 178.0, 138.6, 230.0, 29.0, 97.0, 126.0, 158.0, 29.0, 126.0, 138.6, 47.0, 63.0, 296.0, 71.0, 132.0, 16.0, 64.0, 89.0, 33.0, 114.0, 56.0, 180.0, 176.0, 188.0, 100.0, 142.0, 75.0, 47.0, 55.0], \"yaxis\": \"y6\"}, {\"boxpoints\": false, \"marker\": {\"color\": \"#636EFA\"}, \"name\": \"Three Star\", \"type\": \"box\", \"xaxis\": \"x7\", \"y\": [138.6, 158.0, 138.6, 212.0, 78.0], \"yaxis\": \"y7\"}, {\"boxpoints\": false, \"marker\": {\"color\": \"#636EFA\"}, \"name\": \"Quasi-four Star\", \"type\": \"box\", \"xaxis\": \"x7\", \"y\": [138.6, 216.0, 112.0, 138.0, 268.0, 138.6, 64.0, 94.0, 57.0, 82.0, 114.0, 177.0, 64.0, 291.0, 67.0, 261.0, 168.0, 126.0, 93.0, 88.0, 55.0, 73.0, 201.0, 138.6, 34.0, 300.0, 68.0, 300.0, 180.0, 49.0, 74.0, 413.0, 125.0, 227.0], \"yaxis\": \"y7\"}, {\"boxpoints\": false, \"marker\": {\"color\": \"#636EFA\"}, \"name\": \"Four Star\", \"type\": \"box\", \"xaxis\": \"x7\", \"y\": [196.0, 100.0, 78.0, 297.0, 296.0, 144.0, 224.0, 44.0, 138.0, 167.0, 138.6, 105.0, 78.0, 139.0, 137.0, 73.0, 70.0, 80.0, 81.0, 57.0, 194.0, 81.0, 54.0, 201.0, 53.0, 94.0, 72.0, 70.0, 69.0, 105.0, 83.0, 262.0, 24.0, 286.0, 90.0, 109.0, 374.0, 144.0, 70.0, 79.0, 151.0, 26.0, 231.0, 322.0, 232.0, 72.0, 64.0, 94.0, 138.6, 138.6, 119.0, 64.0, 69.0, 68.0, 108.0, 55.0, 71.0, 138.6, 80.0, 141.0, 86.0, 138.6, 95.0, 176.0, 41.0, 63.0, 70.0, 138.6, 138.6, 129.0, 73.0, 138.6, 118.0, 201.0, 138.6, 118.0, 138.6, 138.6, 68.0, 113.0, 138.6, 82.0, 138.6, 199.0, 17.0, 165.0, 83.0, 138.6, 181.0, 89.0, 82.0, 81.0, 277.0, 178.0, 123.0, 131.0, 120.0, 133.0, 433.0, 170.0, 138.0, 138.6, 101.0, 201.0, 57.0, 96.0, 61.0, 80.0, 13.0, 138.6, 43.0, 138.6], \"yaxis\": \"y7\"}, {\"boxpoints\": false, \"marker\": {\"color\": \"#636EFA\"}, \"name\": \"Quasi-five Star\", \"type\": \"box\", \"xaxis\": \"x7\", \"y\": [59.0, 104.0, 107.0, 178.0, 244.0, 225.0, 67.0, 115.0, 348.0, 119.0, 142.0, 100.0, 143.0, 70.0, 498.0, 333.0, 104.0, 89.0, 101.0, 76.0, 112.0, 100.0, 99.0, 43.0, 137.0, 133.0, 122.0, 117.0, 83.0, 90.0, 129.0, 57.0, 142.0, 93.0, 93.0, 136.0, 171.0, 93.0, 76.0, 85.0, 107.0, 142.0, 86.0, 183.0, 181.0, 48.0, 105.0, 42.0, 286.0, 181.0, 111.0, 43.0, 16.0, 37.0, 302.0, 10.0, 105.0, 260.0, 53.0, 237.0, 44.0, 12.0, 134.0, 112.0, 115.0, 19.0, 174.0, 108.0, 138.6, 81.0, 138.6, 308.0, 149.0, 138.6, 138.6, 138.6, 138.6, 138.6, 41.0, 69.0, 111.0, 148.0, 107.0, 138.6, 80.0, 138.6, 186.0, 95.0, 138.6, 138.6, 138.6, 138.6, 98.0, 120.0, 113.0, 244.0, 100.0, 237.0, 107.0, 67.0, 225.0, 104.0, 43.0, 116.0, 49.0, 142.0, 44.0, 86.0, 56.0, 121.0, 100.0, 165.0, 88.0, 148.0, 140.0, 68.0, 70.0, 113.0, 49.0, 75.0, 120.0, 89.0, 121.0, 97.0, 138.6, 81.0, 234.0, 409.0, 174.0, 138.6, 77.0], \"yaxis\": \"y7\"}, {\"boxpoints\": false, \"marker\": {\"color\": \"#636EFA\"}, \"name\": \"Five Star\", \"type\": \"box\", \"xaxis\": \"x7\", \"y\": [97.0, 161.0, 228.0, 205.0, 144.0, 230.0, 85.0, 25.0, 63.0, 128.0, 85.0, 632.0, 106.0, 44.0, 684.0, 186.0, 118.0, 92.0, 117.0, 66.0, 265.0, 107.0, 161.0, 60.0, 124.0, 221.0, 125.0, 159.0, 521.0, 491.0, 466.0, 148.0, 66.0, 194.0, 80.0, 80.0, 20.0, 52.0, 286.0, 221.0, 75.0, 96.0, 48.0, 68.0, 228.0, 177.0, 110.0, 45.0, 44.0, 193.0, 96.0, 101.0, 184.0, 20.0, 84.0, 69.0, 73.0, 126.0, 62.0, 59.0, 80.0, 91.0, 15.0, 66.0, 154.0, 89.0, 24.0, 72.0, 78.0, 734.0, 48.0, 75.0, 44.0, 41.0, 168.0, 138.6, 138.6, 144.0, 84.0, 228.0, 66.0, 229.0, 186.0, 218.0, 127.0, 52.0, 122.0, 80.0, 265.0, 86.0, 107.0, 362.0, 106.0, 8.0, 74.0, 19.0, 98.0, 562.0, 60.0, 76.0, 128.0, 34.0, 30.0, 59.0], \"yaxis\": \"y7\"}],\n",
       "                        {\"annotations\": [{\"font\": {\"size\": 16}, \"showarrow\": false, \"text\": \"Bali\", \"x\": 0.225, \"xanchor\": \"center\", \"xref\": \"paper\", \"y\": 1.0, \"yanchor\": \"bottom\", \"yref\": \"paper\"}, {\"font\": {\"size\": 16}, \"showarrow\": false, \"text\": \"Jakarta\", \"x\": 0.775, \"xanchor\": \"center\", \"xref\": \"paper\", \"y\": 1.0, \"yanchor\": \"bottom\", \"yref\": \"paper\"}, {\"font\": {\"size\": 16}, \"showarrow\": false, \"text\": \"Batam\", \"x\": 0.225, \"xanchor\": \"center\", \"xref\": \"paper\", \"y\": 0.71875, \"yanchor\": \"bottom\", \"yref\": \"paper\"}, {\"font\": {\"size\": 16}, \"showarrow\": false, \"text\": \"Singapore\", \"x\": 0.775, \"xanchor\": \"center\", \"xref\": \"paper\", \"y\": 0.71875, \"yanchor\": \"bottom\", \"yref\": \"paper\"}, {\"font\": {\"size\": 16}, \"showarrow\": false, \"text\": \"Bangkok\", \"x\": 0.225, \"xanchor\": \"center\", \"xref\": \"paper\", \"y\": 0.4375, \"yanchor\": \"bottom\", \"yref\": \"paper\"}, {\"font\": {\"size\": 16}, \"showarrow\": false, \"text\": \"Pattaya\", \"x\": 0.775, \"xanchor\": \"center\", \"xref\": \"paper\", \"y\": 0.4375, \"yanchor\": \"bottom\", \"yref\": \"paper\"}, {\"font\": {\"size\": 16}, \"showarrow\": false, \"text\": \"Phuket\", \"x\": 0.225, \"xanchor\": \"center\", \"xref\": \"paper\", \"y\": 0.15625, \"yanchor\": \"bottom\", \"yref\": \"paper\"}], \"height\": 1200, \"showlegend\": false, \"template\": {\"data\": {\"bar\": [{\"error_x\": {\"color\": \"rgb(36,36,36)\"}, \"error_y\": {\"color\": \"rgb(36,36,36)\"}, \"marker\": {\"line\": {\"color\": \"white\", \"width\": 0.5}}, \"type\": \"bar\"}], \"barpolar\": [{\"marker\": {\"line\": {\"color\": \"white\", \"width\": 0.5}}, \"type\": \"barpolar\"}], \"carpet\": [{\"aaxis\": {\"endlinecolor\": \"rgb(36,36,36)\", \"gridcolor\": \"white\", \"linecolor\": \"white\", \"minorgridcolor\": \"white\", \"startlinecolor\": \"rgb(36,36,36)\"}, \"baxis\": {\"endlinecolor\": \"rgb(36,36,36)\", \"gridcolor\": \"white\", \"linecolor\": \"white\", \"minorgridcolor\": \"white\", \"startlinecolor\": \"rgb(36,36,36)\"}, \"type\": \"carpet\"}], \"choropleth\": [{\"colorbar\": {\"outlinewidth\": 1, \"tickcolor\": \"rgb(36,36,36)\", \"ticks\": \"outside\"}, \"type\": \"choropleth\"}], \"contour\": [{\"colorbar\": {\"outlinewidth\": 1, \"tickcolor\": \"rgb(36,36,36)\", \"ticks\": \"outside\"}, \"colorscale\": [[0.0, \"#440154\"], [0.1111111111111111, \"#482878\"], [0.2222222222222222, \"#3e4989\"], [0.3333333333333333, \"#31688e\"], [0.4444444444444444, \"#26828e\"], [0.5555555555555556, \"#1f9e89\"], [0.6666666666666666, \"#35b779\"], [0.7777777777777778, \"#6ece58\"], [0.8888888888888888, \"#b5de2b\"], [1.0, \"#fde725\"]], \"type\": \"contour\"}], \"contourcarpet\": [{\"colorbar\": {\"outlinewidth\": 1, \"tickcolor\": \"rgb(36,36,36)\", \"ticks\": \"outside\"}, \"type\": \"contourcarpet\"}], \"heatmap\": [{\"colorbar\": {\"outlinewidth\": 1, \"tickcolor\": \"rgb(36,36,36)\", \"ticks\": \"outside\"}, \"colorscale\": [[0.0, \"#440154\"], [0.1111111111111111, \"#482878\"], [0.2222222222222222, \"#3e4989\"], [0.3333333333333333, \"#31688e\"], [0.4444444444444444, \"#26828e\"], [0.5555555555555556, \"#1f9e89\"], [0.6666666666666666, \"#35b779\"], [0.7777777777777778, \"#6ece58\"], [0.8888888888888888, \"#b5de2b\"], [1.0, \"#fde725\"]], \"type\": \"heatmap\"}], \"heatmapgl\": [{\"colorbar\": {\"outlinewidth\": 1, \"tickcolor\": \"rgb(36,36,36)\", \"ticks\": \"outside\"}, \"colorscale\": [[0.0, \"#440154\"], [0.1111111111111111, \"#482878\"], [0.2222222222222222, \"#3e4989\"], [0.3333333333333333, \"#31688e\"], [0.4444444444444444, \"#26828e\"], [0.5555555555555556, \"#1f9e89\"], [0.6666666666666666, \"#35b779\"], [0.7777777777777778, \"#6ece58\"], [0.8888888888888888, \"#b5de2b\"], [1.0, \"#fde725\"]], \"type\": \"heatmapgl\"}], \"histogram\": [{\"marker\": {\"line\": {\"color\": \"white\", \"width\": 0.6}}, \"type\": \"histogram\"}], \"histogram2d\": [{\"colorbar\": {\"outlinewidth\": 1, \"tickcolor\": \"rgb(36,36,36)\", \"ticks\": \"outside\"}, \"colorscale\": [[0.0, \"#440154\"], [0.1111111111111111, \"#482878\"], [0.2222222222222222, \"#3e4989\"], [0.3333333333333333, \"#31688e\"], [0.4444444444444444, \"#26828e\"], [0.5555555555555556, \"#1f9e89\"], [0.6666666666666666, \"#35b779\"], [0.7777777777777778, \"#6ece58\"], [0.8888888888888888, \"#b5de2b\"], [1.0, \"#fde725\"]], \"type\": \"histogram2d\"}], \"histogram2dcontour\": [{\"colorbar\": {\"outlinewidth\": 1, \"tickcolor\": \"rgb(36,36,36)\", \"ticks\": \"outside\"}, \"colorscale\": [[0.0, \"#440154\"], [0.1111111111111111, \"#482878\"], [0.2222222222222222, \"#3e4989\"], [0.3333333333333333, \"#31688e\"], [0.4444444444444444, \"#26828e\"], [0.5555555555555556, \"#1f9e89\"], [0.6666666666666666, \"#35b779\"], [0.7777777777777778, \"#6ece58\"], [0.8888888888888888, \"#b5de2b\"], [1.0, \"#fde725\"]], \"type\": \"histogram2dcontour\"}], \"mesh3d\": [{\"colorbar\": {\"outlinewidth\": 1, \"tickcolor\": \"rgb(36,36,36)\", \"ticks\": \"outside\"}, \"type\": \"mesh3d\"}], \"parcoords\": [{\"line\": {\"colorbar\": {\"outlinewidth\": 1, \"tickcolor\": \"rgb(36,36,36)\", \"ticks\": \"outside\"}}, \"type\": \"parcoords\"}], \"pie\": [{\"automargin\": true, \"type\": \"pie\"}], \"scatter\": [{\"marker\": {\"colorbar\": {\"outlinewidth\": 1, \"tickcolor\": \"rgb(36,36,36)\", \"ticks\": \"outside\"}}, \"type\": \"scatter\"}], \"scatter3d\": [{\"line\": {\"colorbar\": {\"outlinewidth\": 1, \"tickcolor\": \"rgb(36,36,36)\", \"ticks\": \"outside\"}}, \"marker\": {\"colorbar\": {\"outlinewidth\": 1, \"tickcolor\": \"rgb(36,36,36)\", \"ticks\": \"outside\"}}, \"type\": \"scatter3d\"}], \"scattercarpet\": [{\"marker\": {\"colorbar\": {\"outlinewidth\": 1, \"tickcolor\": \"rgb(36,36,36)\", \"ticks\": \"outside\"}}, \"type\": \"scattercarpet\"}], \"scattergeo\": [{\"marker\": {\"colorbar\": {\"outlinewidth\": 1, \"tickcolor\": \"rgb(36,36,36)\", \"ticks\": \"outside\"}}, \"type\": \"scattergeo\"}], \"scattergl\": [{\"marker\": {\"colorbar\": {\"outlinewidth\": 1, \"tickcolor\": \"rgb(36,36,36)\", \"ticks\": \"outside\"}}, \"type\": \"scattergl\"}], \"scattermapbox\": [{\"marker\": {\"colorbar\": {\"outlinewidth\": 1, \"tickcolor\": \"rgb(36,36,36)\", \"ticks\": \"outside\"}}, \"type\": \"scattermapbox\"}], \"scatterpolar\": [{\"marker\": {\"colorbar\": {\"outlinewidth\": 1, \"tickcolor\": \"rgb(36,36,36)\", \"ticks\": \"outside\"}}, \"type\": \"scatterpolar\"}], \"scatterpolargl\": [{\"marker\": {\"colorbar\": {\"outlinewidth\": 1, \"tickcolor\": \"rgb(36,36,36)\", \"ticks\": \"outside\"}}, \"type\": \"scatterpolargl\"}], \"scatterternary\": [{\"marker\": {\"colorbar\": {\"outlinewidth\": 1, \"tickcolor\": \"rgb(36,36,36)\", \"ticks\": \"outside\"}}, \"type\": \"scatterternary\"}], \"surface\": [{\"colorbar\": {\"outlinewidth\": 1, \"tickcolor\": \"rgb(36,36,36)\", \"ticks\": \"outside\"}, \"colorscale\": [[0.0, \"#440154\"], [0.1111111111111111, \"#482878\"], [0.2222222222222222, \"#3e4989\"], [0.3333333333333333, \"#31688e\"], [0.4444444444444444, \"#26828e\"], [0.5555555555555556, \"#1f9e89\"], [0.6666666666666666, \"#35b779\"], [0.7777777777777778, \"#6ece58\"], [0.8888888888888888, \"#b5de2b\"], [1.0, \"#fde725\"]], \"type\": \"surface\"}], \"table\": [{\"cells\": {\"fill\": {\"color\": \"rgb(237,237,237)\"}, \"line\": {\"color\": \"white\"}}, \"header\": {\"fill\": {\"color\": \"rgb(217,217,217)\"}, \"line\": {\"color\": \"white\"}}, \"type\": \"table\"}]}, \"layout\": {\"annotationdefaults\": {\"arrowhead\": 0, \"arrowwidth\": 1}, \"coloraxis\": {\"colorbar\": {\"outlinewidth\": 1, \"tickcolor\": \"rgb(36,36,36)\", \"ticks\": \"outside\"}}, \"colorscale\": {\"diverging\": [[0.0, \"rgb(103,0,31)\"], [0.1, \"rgb(178,24,43)\"], [0.2, \"rgb(214,96,77)\"], [0.3, \"rgb(244,165,130)\"], [0.4, \"rgb(253,219,199)\"], [0.5, \"rgb(247,247,247)\"], [0.6, \"rgb(209,229,240)\"], [0.7, \"rgb(146,197,222)\"], [0.8, \"rgb(67,147,195)\"], [0.9, \"rgb(33,102,172)\"], [1.0, \"rgb(5,48,97)\"]], \"sequential\": [[0.0, \"#440154\"], [0.1111111111111111, \"#482878\"], [0.2222222222222222, \"#3e4989\"], [0.3333333333333333, \"#31688e\"], [0.4444444444444444, \"#26828e\"], [0.5555555555555556, \"#1f9e89\"], [0.6666666666666666, \"#35b779\"], [0.7777777777777778, \"#6ece58\"], [0.8888888888888888, \"#b5de2b\"], [1.0, \"#fde725\"]], \"sequentialminus\": [[0.0, \"#440154\"], [0.1111111111111111, \"#482878\"], [0.2222222222222222, \"#3e4989\"], [0.3333333333333333, \"#31688e\"], [0.4444444444444444, \"#26828e\"], [0.5555555555555556, \"#1f9e89\"], [0.6666666666666666, \"#35b779\"], [0.7777777777777778, \"#6ece58\"], [0.8888888888888888, \"#b5de2b\"], [1.0, \"#fde725\"]]}, \"colorway\": [\"#1F77B4\", \"#FF7F0E\", \"#2CA02C\", \"#D62728\", \"#9467BD\", \"#8C564B\", \"#E377C2\", \"#7F7F7F\", \"#BCBD22\", \"#17BECF\"], \"font\": {\"color\": \"rgb(36,36,36)\"}, \"geo\": {\"bgcolor\": \"white\", \"lakecolor\": \"white\", \"landcolor\": \"white\", \"showlakes\": true, \"showland\": true, \"subunitcolor\": \"white\"}, \"hoverlabel\": {\"align\": \"left\"}, \"hovermode\": \"closest\", \"mapbox\": {\"style\": \"light\"}, \"paper_bgcolor\": \"white\", \"plot_bgcolor\": \"white\", \"polar\": {\"angularaxis\": {\"gridcolor\": \"rgb(232,232,232)\", \"linecolor\": \"rgb(36,36,36)\", \"showgrid\": false, \"showline\": true, \"ticks\": \"outside\"}, \"bgcolor\": \"white\", \"radialaxis\": {\"gridcolor\": \"rgb(232,232,232)\", \"linecolor\": \"rgb(36,36,36)\", \"showgrid\": false, \"showline\": true, \"ticks\": \"outside\"}}, \"scene\": {\"xaxis\": {\"backgroundcolor\": \"white\", \"gridcolor\": \"rgb(232,232,232)\", \"gridwidth\": 2, \"linecolor\": \"rgb(36,36,36)\", \"showbackground\": true, \"showgrid\": false, \"showline\": true, \"ticks\": \"outside\", \"zeroline\": false, \"zerolinecolor\": \"rgb(36,36,36)\"}, \"yaxis\": {\"backgroundcolor\": \"white\", \"gridcolor\": \"rgb(232,232,232)\", \"gridwidth\": 2, \"linecolor\": \"rgb(36,36,36)\", \"showbackground\": true, \"showgrid\": false, \"showline\": true, \"ticks\": \"outside\", \"zeroline\": false, \"zerolinecolor\": \"rgb(36,36,36)\"}, \"zaxis\": {\"backgroundcolor\": \"white\", \"gridcolor\": \"rgb(232,232,232)\", \"gridwidth\": 2, \"linecolor\": \"rgb(36,36,36)\", \"showbackground\": true, \"showgrid\": false, \"showline\": true, \"ticks\": \"outside\", \"zeroline\": false, \"zerolinecolor\": \"rgb(36,36,36)\"}}, \"shapedefaults\": {\"fillcolor\": \"black\", \"line\": {\"width\": 0}, \"opacity\": 0.3}, \"ternary\": {\"aaxis\": {\"gridcolor\": \"rgb(232,232,232)\", \"linecolor\": \"rgb(36,36,36)\", \"showgrid\": false, \"showline\": true, \"ticks\": \"outside\"}, \"baxis\": {\"gridcolor\": \"rgb(232,232,232)\", \"linecolor\": \"rgb(36,36,36)\", \"showgrid\": false, \"showline\": true, \"ticks\": \"outside\"}, \"bgcolor\": \"white\", \"caxis\": {\"gridcolor\": \"rgb(232,232,232)\", \"linecolor\": \"rgb(36,36,36)\", \"showgrid\": false, \"showline\": true, \"ticks\": \"outside\"}}, \"title\": {\"x\": 0.05}, \"xaxis\": {\"automargin\": true, \"gridcolor\": \"rgb(232,232,232)\", \"linecolor\": \"rgb(36,36,36)\", \"showgrid\": false, \"showline\": true, \"ticks\": \"outside\", \"title\": {\"standoff\": 15}, \"zeroline\": false, \"zerolinecolor\": \"rgb(36,36,36)\"}, \"yaxis\": {\"automargin\": true, \"gridcolor\": \"rgb(232,232,232)\", \"linecolor\": \"rgb(36,36,36)\", \"showgrid\": false, \"showline\": true, \"ticks\": \"outside\", \"title\": {\"standoff\": 15}, \"zeroline\": false, \"zerolinecolor\": \"rgb(36,36,36)\"}}}, \"width\": 1000, \"xaxis\": {\"anchor\": \"y\", \"domain\": [0.0, 0.45]}, \"xaxis2\": {\"anchor\": \"y2\", \"domain\": [0.55, 1.0]}, \"xaxis3\": {\"anchor\": \"y3\", \"domain\": [0.0, 0.45]}, \"xaxis4\": {\"anchor\": \"y4\", \"domain\": [0.55, 1.0]}, \"xaxis5\": {\"anchor\": \"y5\", \"domain\": [0.0, 0.45]}, \"xaxis6\": {\"anchor\": \"y6\", \"domain\": [0.55, 1.0]}, \"xaxis7\": {\"anchor\": \"y7\", \"domain\": [0.0, 0.45]}, \"xaxis8\": {\"anchor\": \"y8\", \"domain\": [0.55, 1.0]}, \"yaxis\": {\"anchor\": \"x\", \"domain\": [0.84375, 1.0], \"range\": [0, 600], \"title\": {\"text\": \"Price\"}}, \"yaxis2\": {\"anchor\": \"x2\", \"domain\": [0.84375, 1.0], \"range\": [0, 600], \"title\": {\"text\": \"Price\"}}, \"yaxis3\": {\"anchor\": \"x3\", \"domain\": [0.5625, 0.71875], \"range\": [0, 600], \"title\": {\"text\": \"Price\"}}, \"yaxis4\": {\"anchor\": \"x4\", \"domain\": [0.5625, 0.71875], \"range\": [0, 600], \"title\": {\"text\": \"Price\"}}, \"yaxis5\": {\"anchor\": \"x5\", \"domain\": [0.28125, 0.4375], \"range\": [0, 600], \"title\": {\"text\": \"Price\"}}, \"yaxis6\": {\"anchor\": \"x6\", \"domain\": [0.28125, 0.4375], \"range\": [0, 600], \"title\": {\"text\": \"Price\"}}, \"yaxis7\": {\"anchor\": \"x7\", \"domain\": [0.0, 0.15625], \"range\": [0, 600], \"title\": {\"text\": \"Price\"}}, \"yaxis8\": {\"anchor\": \"x8\", \"domain\": [0.0, 0.15625], \"range\": [0, 600], \"title\": {\"text\": \"Price\"}}},\n",
       "                        {\"responsive\": true}\n",
       "                    ).then(function(){\n",
       "                            \n",
       "var gd = document.getElementById('546ef72b-b5fc-48a1-a7e9-777a2c236402');\n",
       "var x = new MutationObserver(function (mutations, observer) {{\n",
       "        var display = window.getComputedStyle(gd).display;\n",
       "        if (!display || display === 'none') {{\n",
       "            console.log([gd, 'removed!']);\n",
       "            Plotly.purge(gd);\n",
       "            observer.disconnect();\n",
       "        }}\n",
       "}});\n",
       "\n",
       "// Listen for the removal of the full notebook cells\n",
       "var notebookContainer = gd.closest('#notebook-container');\n",
       "if (notebookContainer) {{\n",
       "    x.observe(notebookContainer, {childList: true});\n",
       "}}\n",
       "\n",
       "// Listen for the clearing of the current output cell\n",
       "var outputEl = gd.closest('.output');\n",
       "if (outputEl) {{\n",
       "    x.observe(outputEl, {childList: true});\n",
       "}}\n",
       "\n",
       "                        })\n",
       "                };\n",
       "                });\n",
       "            </script>\n",
       "        </div>"
      ]
     },
     "metadata": {},
     "output_type": "display_data"
    }
   ],
   "source": [
    "import plotly.graph_objects as go\n",
    "import numpy as np\n",
    "\n",
    "fig = make_subplots(rows=4, cols=2,subplot_titles=data['city'].unique())\n",
    "loc  = [(1,1),(1,2),(2,1),(2,2),(3,1),(3,2),(4,1)]\n",
    "for city,l in zip(data['city'].unique(),loc):  \n",
    "    citydata = data[data['city'] == city]\n",
    "    for s in ['Three Star','Quasi-four Star', 'Four Star','Quasi-five Star','Five Star']:\n",
    "        df = citydata[citydata['star'] ==s]\n",
    "        fig.add_trace(go.Box(y=df['price'], name=s,boxpoints = False,marker_color='#636EFA',\n",
    "                    ),row=l[0],col=l[1])\n",
    "fig.update_layout( width=1000,template = 'simple_white',\n",
    "    height=1200,showlegend = False)\n",
    "fig.update_yaxes(range=[0, 600])\n",
    "fig.update_yaxes(title_text=\"Price\")\n",
    "fig.show()\n",
    "#fig.write_image(\"fig2.png\",scale=3)"
   ]
  },
  {
   "cell_type": "code",
   "execution_count": null,
   "metadata": {},
   "outputs": [],
   "source": []
  },
  {
   "cell_type": "code",
   "execution_count": null,
   "metadata": {},
   "outputs": [],
   "source": []
  }
 ],
 "metadata": {
  "kernelspec": {
   "display_name": "Python 3",
   "language": "python",
   "name": "python3"
  },
  "language_info": {
   "codemirror_mode": {
    "name": "ipython",
    "version": 3
   },
   "file_extension": ".py",
   "mimetype": "text/x-python",
   "name": "python",
   "nbconvert_exporter": "python",
   "pygments_lexer": "ipython3",
   "version": "3.7.3"
  },
  "toc": {
   "base_numbering": 1,
   "nav_menu": {},
   "number_sections": true,
   "sideBar": true,
   "skip_h1_title": false,
   "title_cell": "Table of Contents",
   "title_sidebar": "Contents",
   "toc_cell": false,
   "toc_position": {},
   "toc_section_display": true,
   "toc_window_display": false
  }
 },
 "nbformat": 4,
 "nbformat_minor": 2
}
