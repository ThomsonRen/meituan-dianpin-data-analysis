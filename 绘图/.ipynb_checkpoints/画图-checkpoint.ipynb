{
 "cells": [
  {
   "cell_type": "markdown",
   "metadata": {},
   "source": [
    "# 绘制柱状图和箱线图"
   ]
  },
  {
   "cell_type": "code",
   "execution_count": null,
   "metadata": {},
   "outputs": [],
   "source": [
    "import pandas as pd\n",
    "import plotly.express as px\n",
    "data = pd.read_excel('Food_data_regress_adjusted.xlsx')"
   ]
  },
  {
   "cell_type": "code",
   "execution_count": null,
   "metadata": {},
   "outputs": [],
   "source": [
    "from plotly.subplots import make_subplots\n",
    "import plotly.graph_objects as go\n",
    "fig = make_subplots(rows=4, cols=2,subplot_titles=data['city'].unique())\n",
    "loc  = [(1,1),(1,2),(2,1),(2,2),(3,1),(3,2),(4,1)]\n",
    "for city,l in zip(data['city'].unique(),loc):    \n",
    "    citydata = data[data['city'] == city]\n",
    "    citydata = citydata.groupby('category').count().reset_index()\n",
    "    citydata = citydata.sort_values('country',ascending = False)\n",
    "    fig.add_trace(go.Bar(x=citydata['category'], y=citydata['country'],marker_color='#636EFA'), row=l[0], col=l[1],)\n",
    "fig.update_yaxes(title_text=\"Freq\")\n",
    "\n",
    "\n",
    "fig.update_layout( width=1000,template = 'simple_white',\n",
    "    height=1200,showlegend = False)\n",
    "\n",
    "fig.show()\n",
    "fig.write_image(\"fig1.png\",scale=3)"
   ]
  },
  {
   "cell_type": "code",
   "execution_count": null,
   "metadata": {},
   "outputs": [],
   "source": [
    "import plotly.graph_objects as go\n",
    "import numpy as np\n",
    "\n",
    "fig = make_subplots(rows=4, cols=2,subplot_titles=data['city'].unique())\n",
    "loc  = [(1,1),(1,2),(2,1),(2,2),(3,1),(3,2),(4,1)]\n",
    "for city,l in zip(data['city'].unique(),loc):  \n",
    "    citydata = data[data['city'] == city]\n",
    "    for s in ['Three Star','Quasi-four Star', 'Four Star','Quasi-five Star','Five Star']:\n",
    "        df = citydata[citydata['star'] ==s]\n",
    "        fig.add_trace(go.Box(y=df['price'], name=s,boxpoints = False,marker_color='#636EFA',\n",
    "                    ),row=l[0],col=l[1])\n",
    "fig.update_layout( width=1000,template = 'simple_white',\n",
    "    height=1200,showlegend = False)\n",
    "fig.update_yaxes(range=[0, 600])\n",
    "fig.update_yaxes(title_text=\"Price\")\n",
    "fig.show()\n",
    "fig.write_image(\"fig2.png\",scale=3)"
   ]
  },
  {
   "cell_type": "code",
   "execution_count": null,
   "metadata": {},
   "outputs": [],
   "source": []
  }
 ],
 "metadata": {
  "kernelspec": {
   "display_name": "Python 3",
   "language": "python",
   "name": "python3"
  },
  "language_info": {
   "codemirror_mode": {
    "name": "ipython",
    "version": 3
   },
   "file_extension": ".py",
   "mimetype": "text/x-python",
   "name": "python",
   "nbconvert_exporter": "python",
   "pygments_lexer": "ipython3",
   "version": "3.7.3"
  },
  "toc": {
   "base_numbering": 1,
   "nav_menu": {},
   "number_sections": true,
   "sideBar": true,
   "skip_h1_title": false,
   "title_cell": "Table of Contents",
   "title_sidebar": "Contents",
   "toc_cell": false,
   "toc_position": {},
   "toc_section_display": true,
   "toc_window_display": false
  }
 },
 "nbformat": 4,
 "nbformat_minor": 2
}
